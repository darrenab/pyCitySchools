{
 "cells": [
  {
   "cell_type": "markdown",
   "metadata": {},
   "source": [
    "# PyCity Schools Analysis\n",
    "\n",
    "* As a whole, schools with higher budgets, did not yield better test results. By contrast, schools with higher spending per student actually (\\$645-675) underperformed compared to schools with smaller budgets (<\\$585 per student).\n",
    "\n",
    "* As a whole, smaller and medium sized schools dramatically out-performed large sized schools on passing math performances (89-91% passing vs 67%).\n",
    "\n",
    "* As a whole, charter schools out-performed the public district schools across all metrics. However, more analysis will be required to glean if the effect is due to school practices or the fact that charter schools tend to serve smaller student populations per school. \n",
    "---"
   ]
  },
  {
   "cell_type": "markdown",
   "metadata": {},
   "source": [
    "### Note\n",
    "* Instructions have been included for each segment. You do not have to follow them exactly, but they are included to help you think through the steps."
   ]
  },
  {
   "cell_type": "code",
   "execution_count": 1,
   "metadata": {},
   "outputs": [],
   "source": [
    "# Dependencies and Setup\n",
    "import pandas as pd\n",
    "import numpy as np\n",
    "\n",
    "# File to Load (Remember to Change These)\n",
    "school_data_to_load = \"Resources/schools_complete.csv\"\n",
    "student_data_to_load = \"Resources/students_complete.csv\"\n",
    "\n",
    "# Read School and Student Data File and store into Pandas Data Frames\n",
    "school_data = pd.read_csv(school_data_to_load)\n",
    "student_data = pd.read_csv(student_data_to_load)\n",
    "\n",
    "# Combine the data into a single dataset\n",
    "school_data_complete = pd.merge(student_data, school_data, how=\"left\", on=[\"school_name\", \"school_name\"])\n",
    "\n",
    "school_data =  school_data.sort_values('school_name',ascending=True)\n",
    "school_data_complete =  school_data_complete.sort_values('school_name',ascending=True)\n"
   ]
  },
  {
   "cell_type": "code",
   "execution_count": 2,
   "metadata": {},
   "outputs": [
    {
     "data": {
      "text/html": [
       "<div>\n",
       "<style scoped>\n",
       "    .dataframe tbody tr th:only-of-type {\n",
       "        vertical-align: middle;\n",
       "    }\n",
       "\n",
       "    .dataframe tbody tr th {\n",
       "        vertical-align: top;\n",
       "    }\n",
       "\n",
       "    .dataframe thead th {\n",
       "        text-align: right;\n",
       "    }\n",
       "</style>\n",
       "<table border=\"1\" class=\"dataframe\">\n",
       "  <thead>\n",
       "    <tr style=\"text-align: right;\">\n",
       "      <th></th>\n",
       "      <th>School ID</th>\n",
       "      <th>school_name</th>\n",
       "      <th>type</th>\n",
       "      <th>size</th>\n",
       "      <th>budget</th>\n",
       "    </tr>\n",
       "  </thead>\n",
       "  <tbody>\n",
       "    <tr>\n",
       "      <th>7</th>\n",
       "      <td>7</td>\n",
       "      <td>Bailey High School</td>\n",
       "      <td>District</td>\n",
       "      <td>4976</td>\n",
       "      <td>3124928</td>\n",
       "    </tr>\n",
       "    <tr>\n",
       "      <th>6</th>\n",
       "      <td>6</td>\n",
       "      <td>Cabrera High School</td>\n",
       "      <td>Charter</td>\n",
       "      <td>1858</td>\n",
       "      <td>1081356</td>\n",
       "    </tr>\n",
       "    <tr>\n",
       "      <th>1</th>\n",
       "      <td>1</td>\n",
       "      <td>Figueroa High School</td>\n",
       "      <td>District</td>\n",
       "      <td>2949</td>\n",
       "      <td>1884411</td>\n",
       "    </tr>\n",
       "    <tr>\n",
       "      <th>13</th>\n",
       "      <td>13</td>\n",
       "      <td>Ford High School</td>\n",
       "      <td>District</td>\n",
       "      <td>2739</td>\n",
       "      <td>1763916</td>\n",
       "    </tr>\n",
       "    <tr>\n",
       "      <th>4</th>\n",
       "      <td>4</td>\n",
       "      <td>Griffin High School</td>\n",
       "      <td>Charter</td>\n",
       "      <td>1468</td>\n",
       "      <td>917500</td>\n",
       "    </tr>\n",
       "    <tr>\n",
       "      <th>3</th>\n",
       "      <td>3</td>\n",
       "      <td>Hernandez High School</td>\n",
       "      <td>District</td>\n",
       "      <td>4635</td>\n",
       "      <td>3022020</td>\n",
       "    </tr>\n",
       "    <tr>\n",
       "      <th>8</th>\n",
       "      <td>8</td>\n",
       "      <td>Holden High School</td>\n",
       "      <td>Charter</td>\n",
       "      <td>427</td>\n",
       "      <td>248087</td>\n",
       "    </tr>\n",
       "    <tr>\n",
       "      <th>0</th>\n",
       "      <td>0</td>\n",
       "      <td>Huang High School</td>\n",
       "      <td>District</td>\n",
       "      <td>2917</td>\n",
       "      <td>1910635</td>\n",
       "    </tr>\n",
       "    <tr>\n",
       "      <th>12</th>\n",
       "      <td>12</td>\n",
       "      <td>Johnson High School</td>\n",
       "      <td>District</td>\n",
       "      <td>4761</td>\n",
       "      <td>3094650</td>\n",
       "    </tr>\n",
       "    <tr>\n",
       "      <th>9</th>\n",
       "      <td>9</td>\n",
       "      <td>Pena High School</td>\n",
       "      <td>Charter</td>\n",
       "      <td>962</td>\n",
       "      <td>585858</td>\n",
       "    </tr>\n",
       "    <tr>\n",
       "      <th>11</th>\n",
       "      <td>11</td>\n",
       "      <td>Rodriguez High School</td>\n",
       "      <td>District</td>\n",
       "      <td>3999</td>\n",
       "      <td>2547363</td>\n",
       "    </tr>\n",
       "    <tr>\n",
       "      <th>2</th>\n",
       "      <td>2</td>\n",
       "      <td>Shelton High School</td>\n",
       "      <td>Charter</td>\n",
       "      <td>1761</td>\n",
       "      <td>1056600</td>\n",
       "    </tr>\n",
       "    <tr>\n",
       "      <th>14</th>\n",
       "      <td>14</td>\n",
       "      <td>Thomas High School</td>\n",
       "      <td>Charter</td>\n",
       "      <td>1635</td>\n",
       "      <td>1043130</td>\n",
       "    </tr>\n",
       "    <tr>\n",
       "      <th>5</th>\n",
       "      <td>5</td>\n",
       "      <td>Wilson High School</td>\n",
       "      <td>Charter</td>\n",
       "      <td>2283</td>\n",
       "      <td>1319574</td>\n",
       "    </tr>\n",
       "    <tr>\n",
       "      <th>10</th>\n",
       "      <td>10</td>\n",
       "      <td>Wright High School</td>\n",
       "      <td>Charter</td>\n",
       "      <td>1800</td>\n",
       "      <td>1049400</td>\n",
       "    </tr>\n",
       "  </tbody>\n",
       "</table>\n",
       "</div>"
      ],
      "text/plain": [
       "    School ID            school_name      type  size   budget\n",
       "7           7     Bailey High School  District  4976  3124928\n",
       "6           6    Cabrera High School   Charter  1858  1081356\n",
       "1           1   Figueroa High School  District  2949  1884411\n",
       "13         13       Ford High School  District  2739  1763916\n",
       "4           4    Griffin High School   Charter  1468   917500\n",
       "3           3  Hernandez High School  District  4635  3022020\n",
       "8           8     Holden High School   Charter   427   248087\n",
       "0           0      Huang High School  District  2917  1910635\n",
       "12         12    Johnson High School  District  4761  3094650\n",
       "9           9       Pena High School   Charter   962   585858\n",
       "11         11  Rodriguez High School  District  3999  2547363\n",
       "2           2    Shelton High School   Charter  1761  1056600\n",
       "14         14     Thomas High School   Charter  1635  1043130\n",
       "5           5     Wilson High School   Charter  2283  1319574\n",
       "10         10     Wright High School   Charter  1800  1049400"
      ]
     },
     "execution_count": 2,
     "metadata": {},
     "output_type": "execute_result"
    }
   ],
   "source": [
    "school_data"
   ]
  },
  {
   "cell_type": "code",
   "execution_count": null,
   "metadata": {},
   "outputs": [],
   "source": []
  },
  {
   "cell_type": "markdown",
   "metadata": {},
   "source": [
    "## District Summary\n",
    "\n",
    "* Calculate the total number of schools\n",
    "\n",
    "* Calculate the total number of students\n",
    "\n",
    "* Calculate the total budget\n",
    "\n",
    "* Calculate the average math score \n",
    "\n",
    "* Calculate the average reading score\n",
    "\n",
    "* Calculate the overall passing rate (overall average score), i.e. (avg. math score + avg. reading score)/2\n",
    "\n",
    "* Calculate the percentage of students with a passing math score (70 or greater)\n",
    "\n",
    "* Calculate the percentage of students with a passing reading score (70 or greater)\n",
    "\n",
    "* Create a dataframe to hold the above results\n",
    "\n",
    "* Optional: give the displayed data cleaner formatting"
   ]
  },
  {
   "cell_type": "code",
   "execution_count": 3,
   "metadata": {},
   "outputs": [
    {
     "data": {
      "text/html": [
       "<div>\n",
       "<style scoped>\n",
       "    .dataframe tbody tr th:only-of-type {\n",
       "        vertical-align: middle;\n",
       "    }\n",
       "\n",
       "    .dataframe tbody tr th {\n",
       "        vertical-align: top;\n",
       "    }\n",
       "\n",
       "    .dataframe thead th {\n",
       "        text-align: right;\n",
       "    }\n",
       "</style>\n",
       "<table border=\"1\" class=\"dataframe\">\n",
       "  <thead>\n",
       "    <tr style=\"text-align: right;\">\n",
       "      <th></th>\n",
       "      <th>Student ID</th>\n",
       "      <th>student_name</th>\n",
       "      <th>gender</th>\n",
       "      <th>grade</th>\n",
       "      <th>school_name</th>\n",
       "      <th>reading_score</th>\n",
       "      <th>math_score</th>\n",
       "      <th>School ID</th>\n",
       "      <th>type</th>\n",
       "      <th>size</th>\n",
       "      <th>budget</th>\n",
       "    </tr>\n",
       "  </thead>\n",
       "  <tbody>\n",
       "    <tr>\n",
       "      <th>19584</th>\n",
       "      <td>19584</td>\n",
       "      <td>Tammie Fox</td>\n",
       "      <td>F</td>\n",
       "      <td>11th</td>\n",
       "      <td>Bailey High School</td>\n",
       "      <td>82</td>\n",
       "      <td>92</td>\n",
       "      <td>7</td>\n",
       "      <td>District</td>\n",
       "      <td>4976</td>\n",
       "      <td>3124928</td>\n",
       "    </tr>\n",
       "    <tr>\n",
       "      <th>21193</th>\n",
       "      <td>21193</td>\n",
       "      <td>Jennifer Murray</td>\n",
       "      <td>F</td>\n",
       "      <td>9th</td>\n",
       "      <td>Bailey High School</td>\n",
       "      <td>88</td>\n",
       "      <td>89</td>\n",
       "      <td>7</td>\n",
       "      <td>District</td>\n",
       "      <td>4976</td>\n",
       "      <td>3124928</td>\n",
       "    </tr>\n",
       "    <tr>\n",
       "      <th>21192</th>\n",
       "      <td>21192</td>\n",
       "      <td>Lisa Pineda</td>\n",
       "      <td>F</td>\n",
       "      <td>9th</td>\n",
       "      <td>Bailey High School</td>\n",
       "      <td>86</td>\n",
       "      <td>67</td>\n",
       "      <td>7</td>\n",
       "      <td>District</td>\n",
       "      <td>4976</td>\n",
       "      <td>3124928</td>\n",
       "    </tr>\n",
       "    <tr>\n",
       "      <th>21191</th>\n",
       "      <td>21191</td>\n",
       "      <td>Cameron Miller</td>\n",
       "      <td>M</td>\n",
       "      <td>11th</td>\n",
       "      <td>Bailey High School</td>\n",
       "      <td>70</td>\n",
       "      <td>75</td>\n",
       "      <td>7</td>\n",
       "      <td>District</td>\n",
       "      <td>4976</td>\n",
       "      <td>3124928</td>\n",
       "    </tr>\n",
       "    <tr>\n",
       "      <th>21190</th>\n",
       "      <td>21190</td>\n",
       "      <td>Thomas Rasmussen</td>\n",
       "      <td>M</td>\n",
       "      <td>12th</td>\n",
       "      <td>Bailey High School</td>\n",
       "      <td>77</td>\n",
       "      <td>82</td>\n",
       "      <td>7</td>\n",
       "      <td>District</td>\n",
       "      <td>4976</td>\n",
       "      <td>3124928</td>\n",
       "    </tr>\n",
       "  </tbody>\n",
       "</table>\n",
       "</div>"
      ],
      "text/plain": [
       "       Student ID      student_name gender grade         school_name  \\\n",
       "19584       19584        Tammie Fox      F  11th  Bailey High School   \n",
       "21193       21193   Jennifer Murray      F   9th  Bailey High School   \n",
       "21192       21192       Lisa Pineda      F   9th  Bailey High School   \n",
       "21191       21191    Cameron Miller      M  11th  Bailey High School   \n",
       "21190       21190  Thomas Rasmussen      M  12th  Bailey High School   \n",
       "\n",
       "       reading_score  math_score  School ID      type  size   budget  \n",
       "19584             82          92          7  District  4976  3124928  \n",
       "21193             88          89          7  District  4976  3124928  \n",
       "21192             86          67          7  District  4976  3124928  \n",
       "21191             70          75          7  District  4976  3124928  \n",
       "21190             77          82          7  District  4976  3124928  "
      ]
     },
     "execution_count": 3,
     "metadata": {},
     "output_type": "execute_result"
    }
   ],
   "source": [
    "school_data_complete.head()"
   ]
  },
  {
   "cell_type": "code",
   "execution_count": 4,
   "metadata": {},
   "outputs": [
    {
     "name": "stdout",
     "output_type": "stream",
     "text": [
      "<pandas.core.groupby.groupby.DataFrameGroupBy object at 0x00000214B1CC9B38>\n"
     ]
    }
   ],
   "source": [
    "groupedcomplete = school_data_complete.groupby('school_name')\n",
    "\n",
    "print(groupedcomplete)"
   ]
  },
  {
   "cell_type": "code",
   "execution_count": null,
   "metadata": {},
   "outputs": [],
   "source": []
  },
  {
   "cell_type": "code",
   "execution_count": null,
   "metadata": {},
   "outputs": [],
   "source": []
  },
  {
   "cell_type": "code",
   "execution_count": 5,
   "metadata": {},
   "outputs": [
    {
     "data": {
      "text/html": [
       "<div>\n",
       "<style scoped>\n",
       "    .dataframe tbody tr th:only-of-type {\n",
       "        vertical-align: middle;\n",
       "    }\n",
       "\n",
       "    .dataframe tbody tr th {\n",
       "        vertical-align: top;\n",
       "    }\n",
       "\n",
       "    .dataframe thead th {\n",
       "        text-align: right;\n",
       "    }\n",
       "</style>\n",
       "<table border=\"1\" class=\"dataframe\">\n",
       "  <thead>\n",
       "    <tr style=\"text-align: right;\">\n",
       "      <th></th>\n",
       "      <th>Student ID</th>\n",
       "      <th>reading_score</th>\n",
       "      <th>math_score</th>\n",
       "      <th>School ID</th>\n",
       "      <th>size</th>\n",
       "      <th>budget</th>\n",
       "    </tr>\n",
       "    <tr>\n",
       "      <th>school_name</th>\n",
       "      <th></th>\n",
       "      <th></th>\n",
       "      <th></th>\n",
       "      <th></th>\n",
       "      <th></th>\n",
       "      <th></th>\n",
       "    </tr>\n",
       "  </thead>\n",
       "  <tbody>\n",
       "    <tr>\n",
       "      <th>Bailey High School</th>\n",
       "      <td>101303896</td>\n",
       "      <td>403225</td>\n",
       "      <td>383393</td>\n",
       "      <td>34832</td>\n",
       "      <td>24760576</td>\n",
       "      <td>15549641728</td>\n",
       "    </tr>\n",
       "    <tr>\n",
       "      <th>Cabrera High School</th>\n",
       "      <td>31477307</td>\n",
       "      <td>156027</td>\n",
       "      <td>154329</td>\n",
       "      <td>11148</td>\n",
       "      <td>3452164</td>\n",
       "      <td>2009159448</td>\n",
       "    </tr>\n",
       "    <tr>\n",
       "      <th>Figueroa High School</th>\n",
       "      <td>12949059</td>\n",
       "      <td>239335</td>\n",
       "      <td>226223</td>\n",
       "      <td>2949</td>\n",
       "      <td>8696601</td>\n",
       "      <td>5557128039</td>\n",
       "    </tr>\n",
       "    <tr>\n",
       "      <th>Ford High School</th>\n",
       "      <td>99055935</td>\n",
       "      <td>221164</td>\n",
       "      <td>211184</td>\n",
       "      <td>35607</td>\n",
       "      <td>7502121</td>\n",
       "      <td>4831365924</td>\n",
       "    </tr>\n",
       "    <tr>\n",
       "      <th>Griffin High School</th>\n",
       "      <td>19077394</td>\n",
       "      <td>123043</td>\n",
       "      <td>122360</td>\n",
       "      <td>5872</td>\n",
       "      <td>2155024</td>\n",
       "      <td>1346890000</td>\n",
       "    </tr>\n",
       "    <tr>\n",
       "      <th>Hernandez High School</th>\n",
       "      <td>46090440</td>\n",
       "      <td>375131</td>\n",
       "      <td>358238</td>\n",
       "      <td>13905</td>\n",
       "      <td>21483225</td>\n",
       "      <td>14007062700</td>\n",
       "    </tr>\n",
       "    <tr>\n",
       "      <th>Holden High School</th>\n",
       "      <td>9846620</td>\n",
       "      <td>35789</td>\n",
       "      <td>35784</td>\n",
       "      <td>3416</td>\n",
       "      <td>182329</td>\n",
       "      <td>105933149</td>\n",
       "    </tr>\n",
       "    <tr>\n",
       "      <th>Huang High School</th>\n",
       "      <td>4252986</td>\n",
       "      <td>236810</td>\n",
       "      <td>223528</td>\n",
       "      <td>0</td>\n",
       "      <td>8508889</td>\n",
       "      <td>5573322295</td>\n",
       "    </tr>\n",
       "    <tr>\n",
       "      <th>Johnson High School</th>\n",
       "      <td>154327815</td>\n",
       "      <td>385481</td>\n",
       "      <td>366942</td>\n",
       "      <td>57132</td>\n",
       "      <td>22667121</td>\n",
       "      <td>14733628650</td>\n",
       "    </tr>\n",
       "    <tr>\n",
       "      <th>Pena High School</th>\n",
       "      <td>22851829</td>\n",
       "      <td>80851</td>\n",
       "      <td>80654</td>\n",
       "      <td>8658</td>\n",
       "      <td>925444</td>\n",
       "      <td>563595396</td>\n",
       "    </tr>\n",
       "    <tr>\n",
       "      <th>Rodriguez High School</th>\n",
       "      <td>112111965</td>\n",
       "      <td>322898</td>\n",
       "      <td>307294</td>\n",
       "      <td>43989</td>\n",
       "      <td>15992001</td>\n",
       "      <td>10186904637</td>\n",
       "    </tr>\n",
       "    <tr>\n",
       "      <th>Shelton High School</th>\n",
       "      <td>11879706</td>\n",
       "      <td>147441</td>\n",
       "      <td>146796</td>\n",
       "      <td>3522</td>\n",
       "      <td>3101121</td>\n",
       "      <td>1860672600</td>\n",
       "    </tr>\n",
       "    <tr>\n",
       "      <th>Thomas High School</th>\n",
       "      <td>62705520</td>\n",
       "      <td>137093</td>\n",
       "      <td>136389</td>\n",
       "      <td>22890</td>\n",
       "      <td>2673225</td>\n",
       "      <td>1705517550</td>\n",
       "    </tr>\n",
       "    <tr>\n",
       "      <th>Wilson High School</th>\n",
       "      <td>33950493</td>\n",
       "      <td>191748</td>\n",
       "      <td>190115</td>\n",
       "      <td>11415</td>\n",
       "      <td>5212089</td>\n",
       "      <td>3012587442</td>\n",
       "    </tr>\n",
       "    <tr>\n",
       "      <th>Wright High School</th>\n",
       "      <td>45243900</td>\n",
       "      <td>151119</td>\n",
       "      <td>150628</td>\n",
       "      <td>18000</td>\n",
       "      <td>3240000</td>\n",
       "      <td>1888920000</td>\n",
       "    </tr>\n",
       "  </tbody>\n",
       "</table>\n",
       "</div>"
      ],
      "text/plain": [
       "                       Student ID  reading_score  math_score  School ID  \\\n",
       "school_name                                                               \n",
       "Bailey High School      101303896         403225      383393      34832   \n",
       "Cabrera High School      31477307         156027      154329      11148   \n",
       "Figueroa High School     12949059         239335      226223       2949   \n",
       "Ford High School         99055935         221164      211184      35607   \n",
       "Griffin High School      19077394         123043      122360       5872   \n",
       "Hernandez High School    46090440         375131      358238      13905   \n",
       "Holden High School        9846620          35789       35784       3416   \n",
       "Huang High School         4252986         236810      223528          0   \n",
       "Johnson High School     154327815         385481      366942      57132   \n",
       "Pena High School         22851829          80851       80654       8658   \n",
       "Rodriguez High School   112111965         322898      307294      43989   \n",
       "Shelton High School      11879706         147441      146796       3522   \n",
       "Thomas High School       62705520         137093      136389      22890   \n",
       "Wilson High School       33950493         191748      190115      11415   \n",
       "Wright High School       45243900         151119      150628      18000   \n",
       "\n",
       "                           size       budget  \n",
       "school_name                                   \n",
       "Bailey High School     24760576  15549641728  \n",
       "Cabrera High School     3452164   2009159448  \n",
       "Figueroa High School    8696601   5557128039  \n",
       "Ford High School        7502121   4831365924  \n",
       "Griffin High School     2155024   1346890000  \n",
       "Hernandez High School  21483225  14007062700  \n",
       "Holden High School       182329    105933149  \n",
       "Huang High School       8508889   5573322295  \n",
       "Johnson High School    22667121  14733628650  \n",
       "Pena High School         925444    563595396  \n",
       "Rodriguez High School  15992001  10186904637  \n",
       "Shelton High School     3101121   1860672600  \n",
       "Thomas High School      2673225   1705517550  \n",
       "Wilson High School      5212089   3012587442  \n",
       "Wright High School      3240000   1888920000  "
      ]
     },
     "execution_count": 5,
     "metadata": {},
     "output_type": "execute_result"
    }
   ],
   "source": [
    "groupedSchool = school_data_complete.groupby('school_name').sum()\n",
    "groupedSchool"
   ]
  },
  {
   "cell_type": "code",
   "execution_count": 6,
   "metadata": {},
   "outputs": [
    {
     "data": {
      "text/plain": [
       "dict_keys(['Bailey High School', 'Cabrera High School', 'Figueroa High School', 'Ford High School', 'Griffin High School', 'Hernandez High School', 'Holden High School', 'Huang High School', 'Johnson High School', 'Pena High School', 'Rodriguez High School', 'Shelton High School', 'Thomas High School', 'Wilson High School', 'Wright High School'])"
      ]
     },
     "execution_count": 6,
     "metadata": {},
     "output_type": "execute_result"
    }
   ],
   "source": [
    "school_data_complete.groupby('school_name').groups.keys()"
   ]
  },
  {
   "cell_type": "code",
   "execution_count": 7,
   "metadata": {},
   "outputs": [
    {
     "data": {
      "text/plain": [
       "15"
      ]
     },
     "execution_count": 7,
     "metadata": {},
     "output_type": "execute_result"
    }
   ],
   "source": [
    "schoolCount = school_data_complete['school_name'].nunique()\n",
    "\n",
    "schoolCount"
   ]
  },
  {
   "cell_type": "code",
   "execution_count": null,
   "metadata": {},
   "outputs": [],
   "source": []
  },
  {
   "cell_type": "code",
   "execution_count": null,
   "metadata": {},
   "outputs": [],
   "source": []
  },
  {
   "cell_type": "code",
   "execution_count": 8,
   "metadata": {},
   "outputs": [
    {
     "data": {
      "text/plain": [
       "0        Bailey High School\n",
       "1       Cabrera High School\n",
       "2      Figueroa High School\n",
       "3          Ford High School\n",
       "4       Griffin High School\n",
       "5     Hernandez High School\n",
       "6        Holden High School\n",
       "7         Huang High School\n",
       "8       Johnson High School\n",
       "9          Pena High School\n",
       "10    Rodriguez High School\n",
       "11      Shelton High School\n",
       "12       Thomas High School\n",
       "13       Wilson High School\n",
       "14       Wright High School\n",
       "dtype: object"
      ]
     },
     "execution_count": 8,
     "metadata": {},
     "output_type": "execute_result"
    }
   ],
   "source": [
    "schoolName = pd.Series(school_data_complete['school_name'].unique())\n",
    "schoolName"
   ]
  },
  {
   "cell_type": "code",
   "execution_count": null,
   "metadata": {},
   "outputs": [],
   "source": []
  },
  {
   "cell_type": "code",
   "execution_count": 9,
   "metadata": {},
   "outputs": [
    {
     "data": {
      "text/plain": [
       "39170"
      ]
     },
     "execution_count": 9,
     "metadata": {},
     "output_type": "execute_result"
    }
   ],
   "source": [
    "students = school_data_complete['student_name'].count()\n",
    "    \n",
    "students"
   ]
  },
  {
   "cell_type": "code",
   "execution_count": 10,
   "metadata": {},
   "outputs": [
    {
     "data": {
      "text/plain": [
       "24649428"
      ]
     },
     "execution_count": 10,
     "metadata": {},
     "output_type": "execute_result"
    }
   ],
   "source": [
    "totalBudget = school_data['budget'].sum()\n",
    "totalBudget"
   ]
  },
  {
   "cell_type": "code",
   "execution_count": 11,
   "metadata": {},
   "outputs": [
    {
     "data": {
      "text/plain": [
       "629.2935409752362"
      ]
     },
     "execution_count": 11,
     "metadata": {},
     "output_type": "execute_result"
    }
   ],
   "source": [
    "bdgtPerStd = (school_data['budget'].sum())/(school_data_complete['student_name'].count())\n",
    "\n",
    "bdgtPerStd"
   ]
  },
  {
   "cell_type": "code",
   "execution_count": 12,
   "metadata": {},
   "outputs": [
    {
     "data": {
      "text/plain": [
       "78.98537145774827"
      ]
     },
     "execution_count": 12,
     "metadata": {},
     "output_type": "execute_result"
    }
   ],
   "source": [
    "mathMean = school_data_complete[\"math_score\"].mean()\n",
    "mathMean"
   ]
  },
  {
   "cell_type": "code",
   "execution_count": 13,
   "metadata": {},
   "outputs": [
    {
     "data": {
      "text/plain": [
       "81.87784018381414"
      ]
     },
     "execution_count": 13,
     "metadata": {},
     "output_type": "execute_result"
    }
   ],
   "source": [
    "readingMean = school_data_complete[\"reading_score\"].mean()\n",
    "\n",
    "readingMean"
   ]
  },
  {
   "cell_type": "code",
   "execution_count": 14,
   "metadata": {},
   "outputs": [
    {
     "data": {
      "text/plain": [
       "80.43160582078121"
      ]
     },
     "execution_count": 14,
     "metadata": {},
     "output_type": "execute_result"
    }
   ],
   "source": [
    "overallMean = (school_data_complete[\"reading_score\"].mean()+school_data_complete[\"math_score\"].mean())/2\n",
    "overallMean"
   ]
  },
  {
   "cell_type": "markdown",
   "metadata": {},
   "source": [
    "### to calculate percentages\n"
   ]
  },
  {
   "cell_type": "code",
   "execution_count": null,
   "metadata": {},
   "outputs": [],
   "source": []
  },
  {
   "cell_type": "code",
   "execution_count": 15,
   "metadata": {},
   "outputs": [
    {
     "data": {
      "text/plain": [
       "74.9808526933878"
      ]
     },
     "execution_count": 15,
     "metadata": {},
     "output_type": "execute_result"
    }
   ],
   "source": [
    "passingMath=school_data_complete.loc[school_data_complete['math_score'] >= 70, :]\n",
    "\n",
    "mathPath = passingMath['Student ID'].count()\n",
    "percentageMath = mathPath / students * 100\n",
    "percentageMath"
   ]
  },
  {
   "cell_type": "code",
   "execution_count": 16,
   "metadata": {},
   "outputs": [
    {
     "data": {
      "text/plain": [
       "pandas.core.frame.DataFrame"
      ]
     },
     "execution_count": 16,
     "metadata": {},
     "output_type": "execute_result"
    }
   ],
   "source": [
    "type(passingMath)"
   ]
  },
  {
   "cell_type": "code",
   "execution_count": 17,
   "metadata": {},
   "outputs": [],
   "source": [
    "# passMathPct = passingMath.count()/school_data_complete.student_name.count()*100\n",
    "# passMathPct"
   ]
  },
  {
   "cell_type": "code",
   "execution_count": 18,
   "metadata": {},
   "outputs": [
    {
     "data": {
      "text/plain": [
       "reading_score    33610\n",
       "dtype: int64"
      ]
     },
     "execution_count": 18,
     "metadata": {},
     "output_type": "execute_result"
    }
   ],
   "source": [
    "passingReading=school_data_complete.loc[school_data_complete['reading_score'] >= 70, ['reading_score']]\n",
    "\n",
    "passingReading.count()"
   ]
  },
  {
   "cell_type": "code",
   "execution_count": 19,
   "metadata": {},
   "outputs": [
    {
     "data": {
      "text/plain": [
       "85.80546336482001"
      ]
     },
     "execution_count": 19,
     "metadata": {},
     "output_type": "execute_result"
    }
   ],
   "source": [
    "passReadingPct = passingReading.count()/students*100\n",
    "percentageReading = passReadingPct[0]\n",
    "percentageReading"
   ]
  },
  {
   "cell_type": "code",
   "execution_count": 20,
   "metadata": {},
   "outputs": [
    {
     "data": {
      "text/html": [
       "<div>\n",
       "<style scoped>\n",
       "    .dataframe tbody tr th:only-of-type {\n",
       "        vertical-align: middle;\n",
       "    }\n",
       "\n",
       "    .dataframe tbody tr th {\n",
       "        vertical-align: top;\n",
       "    }\n",
       "\n",
       "    .dataframe thead th {\n",
       "        text-align: right;\n",
       "    }\n",
       "</style>\n",
       "<table border=\"1\" class=\"dataframe\">\n",
       "  <thead>\n",
       "    <tr style=\"text-align: right;\">\n",
       "      <th></th>\n",
       "      <th>Number of Schools</th>\n",
       "      <th>Number of Students</th>\n",
       "      <th>Total Budget</th>\n",
       "      <th>Math Average</th>\n",
       "      <th>Reading Average</th>\n",
       "      <th>Overall Average</th>\n",
       "      <th>Passing % Math</th>\n",
       "      <th>Passing % Reading</th>\n",
       "    </tr>\n",
       "  </thead>\n",
       "  <tbody>\n",
       "    <tr>\n",
       "      <th>0</th>\n",
       "      <td>15</td>\n",
       "      <td>39170</td>\n",
       "      <td>24649428</td>\n",
       "      <td>78.9854</td>\n",
       "      <td>81.8778</td>\n",
       "      <td>80.4316</td>\n",
       "      <td>74.9809</td>\n",
       "      <td>85.8055</td>\n",
       "    </tr>\n",
       "  </tbody>\n",
       "</table>\n",
       "</div>"
      ],
      "text/plain": [
       "  Number of Schools Number of Students Total Budget Math Average  \\\n",
       "0                15              39170     24649428      78.9854   \n",
       "\n",
       "  Reading Average Overall Average Passing % Math Passing % Reading  \n",
       "0         81.8778         80.4316        74.9809           85.8055  "
      ]
     },
     "execution_count": 20,
     "metadata": {},
     "output_type": "execute_result"
    }
   ],
   "source": [
    "distSummary = pd.DataFrame(columns=[\"Number of Schools\",\"Number of Students\",\"Total Budget\",\n",
    "\"Math Average\",\"Reading Average\",\"Overall Average\",\"Passing % Math\",\"Passing % Reading\"])\n",
    "\n",
    "distSummary.loc[0,:]= [\n",
    "    school_data_complete['school_name'].nunique(),\n",
    "    school_data_complete['student_name'].count(),\n",
    "    school_data['budget'].sum(),\n",
    "    school_data_complete[\"math_score\"].mean(),\n",
    "    school_data_complete[\"reading_score\"].mean(),\n",
    "    (school_data_complete[\"reading_score\"].mean()+school_data_complete[\"math_score\"].mean())/2,\n",
    "    (passingMath.count()/school_data_complete.student_name.count()*100).values[0],\n",
    "    (passingReading.count()/school_data_complete.student_name.count()*100).values[0]\n",
    "]\n",
    "        \n",
    "distSummary  "
   ]
  },
  {
   "cell_type": "code",
   "execution_count": 21,
   "metadata": {},
   "outputs": [
    {
     "data": {
      "text/plain": [
       "80.39315802910392"
      ]
     },
     "execution_count": 21,
     "metadata": {},
     "output_type": "execute_result"
    }
   ],
   "source": [
    "oPassing = (percentageMath + percentageReading) / 2\n",
    "oPassing"
   ]
  },
  {
   "cell_type": "code",
   "execution_count": 22,
   "metadata": {},
   "outputs": [
    {
     "data": {
      "text/plain": [
       "array([4976, 1858, 2949, 2739, 1468, 4635,  427, 2917, 4761,  962, 3999,\n",
       "       1761, 1635, 2283, 1800], dtype=int64)"
      ]
     },
     "execution_count": 22,
     "metadata": {},
     "output_type": "execute_result"
    }
   ],
   "source": [
    "schoolStudents = school_data_complete.groupby('school_name').count()['Student ID'].values\n",
    "\n",
    "schoolStudents\n",
    "\n",
    "\n",
    "\n"
   ]
  },
  {
   "cell_type": "code",
   "execution_count": 23,
   "metadata": {},
   "outputs": [
    {
     "data": {
      "text/plain": [
       "0     District\n",
       "1      Charter\n",
       "2     District\n",
       "3     District\n",
       "4      Charter\n",
       "5     District\n",
       "6      Charter\n",
       "7     District\n",
       "8     District\n",
       "9      Charter\n",
       "10    District\n",
       "11     Charter\n",
       "12     Charter\n",
       "13     Charter\n",
       "14     Charter\n",
       "Name: type, dtype: object"
      ]
     },
     "execution_count": 23,
     "metadata": {},
     "output_type": "execute_result"
    }
   ],
   "source": [
    "school_type= school_data['type']\n",
    "school_type=school_type.reset_index(drop=True)\n",
    "school_type"
   ]
  },
  {
   "cell_type": "code",
   "execution_count": 24,
   "metadata": {},
   "outputs": [
    {
     "data": {
      "text/plain": [
       "array([3124928, 1081356, 1884411, 1763916,  917500, 3022020,  248087,\n",
       "       1910635, 3094650,  585858, 2547363, 1056600, 1043130, 1319574,\n",
       "       1049400], dtype=int64)"
      ]
     },
     "execution_count": 24,
     "metadata": {},
     "output_type": "execute_result"
    }
   ],
   "source": [
    "bySchoolBudget = school_data.budget.values\n",
    "bySchoolBudget"
   ]
  },
  {
   "cell_type": "code",
   "execution_count": 25,
   "metadata": {},
   "outputs": [
    {
     "data": {
      "text/plain": [
       "array([628., 582., 639., 644., 625., 652., 581., 655., 650., 609., 637.,\n",
       "       600., 638., 578., 583.])"
      ]
     },
     "execution_count": 25,
     "metadata": {},
     "output_type": "execute_result"
    }
   ],
   "source": [
    "perStudentBudget=bySchoolBudget/schoolStudents\n",
    "perStudentBudget"
   ]
  },
  {
   "cell_type": "code",
   "execution_count": 26,
   "metadata": {},
   "outputs": [
    {
     "data": {
      "text/plain": [
       "array([77.05, 83.06, 76.71, 77.1 , 83.35, 77.29, 83.8 , 76.63, 77.07,\n",
       "       83.84, 76.84, 83.36, 83.42, 83.27, 83.68])"
      ]
     },
     "execution_count": 26,
     "metadata": {},
     "output_type": "execute_result"
    }
   ],
   "source": [
    "Average_Math_Score = (school_data_complete.groupby('school_name').mean()['math_score']).round(2).values \n",
    "Average_Math_Score"
   ]
  },
  {
   "cell_type": "code",
   "execution_count": 27,
   "metadata": {},
   "outputs": [
    {
     "data": {
      "text/plain": [
       "array([81.03, 83.98, 81.16, 80.75, 83.82, 80.93, 83.81, 81.18, 80.97,\n",
       "       84.04, 80.74, 83.73, 83.85, 83.99, 83.96])"
      ]
     },
     "execution_count": 27,
     "metadata": {},
     "output_type": "execute_result"
    }
   ],
   "source": [
    "Average_Read_Score = (school_data_complete.groupby('school_name').mean()['reading_score']).round(2).values\n",
    "\n",
    "Average_Read_Score"
   ]
  },
  {
   "cell_type": "code",
   "execution_count": 28,
   "metadata": {},
   "outputs": [
    {
     "data": {
      "text/plain": [
       "39170"
      ]
     },
     "execution_count": 28,
     "metadata": {},
     "output_type": "execute_result"
    }
   ],
   "source": [
    "len(school_data_complete)"
   ]
  },
  {
   "cell_type": "code",
   "execution_count": 29,
   "metadata": {},
   "outputs": [
    {
     "data": {
      "text/plain": [
       "reading_score    0.858055\n",
       "dtype: float64"
      ]
     },
     "execution_count": 29,
     "metadata": {},
     "output_type": "execute_result"
    }
   ],
   "source": [
    "school_data_complete.loc[school_data_complete['reading_score'] >= 70, ['reading_score']].count() / len(school_data_complete)"
   ]
  },
  {
   "cell_type": "code",
   "execution_count": 30,
   "metadata": {},
   "outputs": [],
   "source": [
    "school_data_complete[\"passedReading\"] = school_data_complete['reading_score'] >= 70\n",
    "\n"
   ]
  },
  {
   "cell_type": "code",
   "execution_count": 31,
   "metadata": {},
   "outputs": [],
   "source": [
    "pRdCt = school_data_complete.groupby(\"school_name\")[\"passedReading\"].sum()"
   ]
  },
  {
   "cell_type": "code",
   "execution_count": 32,
   "metadata": {},
   "outputs": [],
   "source": [
    "fRdCt = school_data_complete.groupby(\"school_name\")[\"passedReading\"].count()"
   ]
  },
  {
   "cell_type": "code",
   "execution_count": 33,
   "metadata": {},
   "outputs": [
    {
     "data": {
      "text/plain": [
       "array([81.93, 97.04, 80.74, 79.3 , 97.14, 80.86, 96.25, 81.32, 81.22,\n",
       "       95.95, 80.22, 95.85, 97.31, 96.54, 96.61])"
      ]
     },
     "execution_count": 33,
     "metadata": {},
     "output_type": "execute_result"
    }
   ],
   "source": [
    "pRdPct = (pRdCt/fRdCt * 100).round(2).values\n",
    "\n",
    "pRdPct"
   ]
  },
  {
   "cell_type": "code",
   "execution_count": 34,
   "metadata": {},
   "outputs": [
    {
     "data": {
      "text/html": [
       "<div>\n",
       "<style scoped>\n",
       "    .dataframe tbody tr th:only-of-type {\n",
       "        vertical-align: middle;\n",
       "    }\n",
       "\n",
       "    .dataframe tbody tr th {\n",
       "        vertical-align: top;\n",
       "    }\n",
       "\n",
       "    .dataframe thead th {\n",
       "        text-align: right;\n",
       "    }\n",
       "</style>\n",
       "<table border=\"1\" class=\"dataframe\">\n",
       "  <thead>\n",
       "    <tr style=\"text-align: right;\">\n",
       "      <th></th>\n",
       "      <th>Student ID</th>\n",
       "      <th>student_name</th>\n",
       "      <th>gender</th>\n",
       "      <th>grade</th>\n",
       "      <th>school_name</th>\n",
       "      <th>reading_score</th>\n",
       "      <th>math_score</th>\n",
       "      <th>School ID</th>\n",
       "      <th>type</th>\n",
       "      <th>size</th>\n",
       "      <th>budget</th>\n",
       "      <th>passedReading</th>\n",
       "      <th>passedMath</th>\n",
       "    </tr>\n",
       "  </thead>\n",
       "  <tbody>\n",
       "    <tr>\n",
       "      <th>19584</th>\n",
       "      <td>19584</td>\n",
       "      <td>Tammie Fox</td>\n",
       "      <td>F</td>\n",
       "      <td>11th</td>\n",
       "      <td>Bailey High School</td>\n",
       "      <td>82</td>\n",
       "      <td>92</td>\n",
       "      <td>7</td>\n",
       "      <td>District</td>\n",
       "      <td>4976</td>\n",
       "      <td>3124928</td>\n",
       "      <td>True</td>\n",
       "      <td>True</td>\n",
       "    </tr>\n",
       "    <tr>\n",
       "      <th>21193</th>\n",
       "      <td>21193</td>\n",
       "      <td>Jennifer Murray</td>\n",
       "      <td>F</td>\n",
       "      <td>9th</td>\n",
       "      <td>Bailey High School</td>\n",
       "      <td>88</td>\n",
       "      <td>89</td>\n",
       "      <td>7</td>\n",
       "      <td>District</td>\n",
       "      <td>4976</td>\n",
       "      <td>3124928</td>\n",
       "      <td>True</td>\n",
       "      <td>True</td>\n",
       "    </tr>\n",
       "    <tr>\n",
       "      <th>21192</th>\n",
       "      <td>21192</td>\n",
       "      <td>Lisa Pineda</td>\n",
       "      <td>F</td>\n",
       "      <td>9th</td>\n",
       "      <td>Bailey High School</td>\n",
       "      <td>86</td>\n",
       "      <td>67</td>\n",
       "      <td>7</td>\n",
       "      <td>District</td>\n",
       "      <td>4976</td>\n",
       "      <td>3124928</td>\n",
       "      <td>True</td>\n",
       "      <td>False</td>\n",
       "    </tr>\n",
       "    <tr>\n",
       "      <th>21191</th>\n",
       "      <td>21191</td>\n",
       "      <td>Cameron Miller</td>\n",
       "      <td>M</td>\n",
       "      <td>11th</td>\n",
       "      <td>Bailey High School</td>\n",
       "      <td>70</td>\n",
       "      <td>75</td>\n",
       "      <td>7</td>\n",
       "      <td>District</td>\n",
       "      <td>4976</td>\n",
       "      <td>3124928</td>\n",
       "      <td>True</td>\n",
       "      <td>True</td>\n",
       "    </tr>\n",
       "    <tr>\n",
       "      <th>21190</th>\n",
       "      <td>21190</td>\n",
       "      <td>Thomas Rasmussen</td>\n",
       "      <td>M</td>\n",
       "      <td>12th</td>\n",
       "      <td>Bailey High School</td>\n",
       "      <td>77</td>\n",
       "      <td>82</td>\n",
       "      <td>7</td>\n",
       "      <td>District</td>\n",
       "      <td>4976</td>\n",
       "      <td>3124928</td>\n",
       "      <td>True</td>\n",
       "      <td>True</td>\n",
       "    </tr>\n",
       "  </tbody>\n",
       "</table>\n",
       "</div>"
      ],
      "text/plain": [
       "       Student ID      student_name gender grade         school_name  \\\n",
       "19584       19584        Tammie Fox      F  11th  Bailey High School   \n",
       "21193       21193   Jennifer Murray      F   9th  Bailey High School   \n",
       "21192       21192       Lisa Pineda      F   9th  Bailey High School   \n",
       "21191       21191    Cameron Miller      M  11th  Bailey High School   \n",
       "21190       21190  Thomas Rasmussen      M  12th  Bailey High School   \n",
       "\n",
       "       reading_score  math_score  School ID      type  size   budget  \\\n",
       "19584             82          92          7  District  4976  3124928   \n",
       "21193             88          89          7  District  4976  3124928   \n",
       "21192             86          67          7  District  4976  3124928   \n",
       "21191             70          75          7  District  4976  3124928   \n",
       "21190             77          82          7  District  4976  3124928   \n",
       "\n",
       "       passedReading  passedMath  \n",
       "19584           True        True  \n",
       "21193           True        True  \n",
       "21192           True       False  \n",
       "21191           True        True  \n",
       "21190           True        True  "
      ]
     },
     "execution_count": 34,
     "metadata": {},
     "output_type": "execute_result"
    }
   ],
   "source": [
    "school_data_complete['passedMath'] = school_data_complete['math_score'] >= 70\n",
    "school_data_complete.head()"
   ]
  },
  {
   "cell_type": "code",
   "execution_count": 35,
   "metadata": {},
   "outputs": [
    {
     "data": {
      "text/plain": [
       "school_name\n",
       "Bailey High School       3318.0\n",
       "Cabrera High School      1749.0\n",
       "Figueroa High School     1946.0\n",
       "Ford High School         1871.0\n",
       "Griffin High School      1371.0\n",
       "Hernandez High School    3094.0\n",
       "Holden High School        395.0\n",
       "Huang High School        1916.0\n",
       "Johnson High School      3145.0\n",
       "Pena High School          910.0\n",
       "Rodriguez High School    2654.0\n",
       "Shelton High School      1653.0\n",
       "Thomas High School       1525.0\n",
       "Wilson High School       2143.0\n",
       "Wright High School       1680.0\n",
       "Name: passedMath, dtype: float64"
      ]
     },
     "execution_count": 35,
     "metadata": {},
     "output_type": "execute_result"
    }
   ],
   "source": [
    "pMthCt = school_data_complete.groupby(\"school_name\")[\"passedMath\"].sum()\n",
    "pMthCt"
   ]
  },
  {
   "cell_type": "code",
   "execution_count": 36,
   "metadata": {},
   "outputs": [
    {
     "data": {
      "text/plain": [
       "array([4976, 1858, 2949, 2739, 1468, 4635,  427, 2917, 4761,  962, 3999,\n",
       "       1761, 1635, 2283, 1800], dtype=int64)"
      ]
     },
     "execution_count": 36,
     "metadata": {},
     "output_type": "execute_result"
    }
   ],
   "source": [
    "fMthCt = school_data_complete.groupby(\"school_name\")[\"passedMath\"].count()\n",
    "fMthCt.values"
   ]
  },
  {
   "cell_type": "code",
   "execution_count": 37,
   "metadata": {},
   "outputs": [
    {
     "data": {
      "text/plain": [
       "array([66.68, 94.13, 65.99, 68.31, 93.39, 66.75, 92.51, 65.68, 66.06,\n",
       "       94.59, 66.37, 93.87, 93.27, 93.87, 93.33])"
      ]
     },
     "execution_count": 37,
     "metadata": {},
     "output_type": "execute_result"
    }
   ],
   "source": [
    "pMthPct = (pMthCt/fMthCt * 100).round(2).values\n",
    "\n",
    "pMthPct"
   ]
  },
  {
   "cell_type": "code",
   "execution_count": 38,
   "metadata": {},
   "outputs": [
    {
     "data": {
      "text/plain": [
       "array([74.31, 95.58, 73.36, 73.81, 95.26, 73.81, 94.38, 73.5 , 73.64,\n",
       "       95.27, 73.3 , 94.86, 95.29, 95.21, 94.97])"
      ]
     },
     "execution_count": 38,
     "metadata": {},
     "output_type": "execute_result"
    }
   ],
   "source": [
    "overallPct=((pMthPct+pRdPct)/2).round(2)\n",
    "overallPct"
   ]
  },
  {
   "cell_type": "markdown",
   "metadata": {},
   "source": [
    "## School Summary"
   ]
  },
  {
   "cell_type": "markdown",
   "metadata": {},
   "source": [
    "* Create an overview table that summarizes key metrics about each school, including:\n",
    "  * School Name\n",
    "  * School Type\n",
    "  * Total Students\n",
    "  * Total School Budget\n",
    "  * Per Student Budget\n",
    "  * Average Math Score\n",
    "  * Average Reading Score\n",
    "  * % Passing Math\n",
    "  * % Passing Reading\n",
    "  * Overall Passing Rate (Average of the above two)\n",
    "  \n",
    "* Create a dataframe to hold the above results"
   ]
  },
  {
   "cell_type": "code",
   "execution_count": 39,
   "metadata": {},
   "outputs": [],
   "source": [
    "#convert if necessary\n",
    "\n",
    "overallPctSer = pd.Series(overallPct)\n",
    "overallPctSer\n",
    "\n",
    "schoolStudentsSer=pd.Series(schoolStudents)\n",
    "\n",
    "schoolStudentsSer\n",
    "\n",
    "bySchoolBudgetSer=pd.Series(bySchoolBudget)\n",
    "\n",
    "perStudentBudgetSer=pd.Series(perStudentBudget)\n",
    "Average_Read_ScoreSer=pd.Series(Average_Read_Score)\n",
    "Average_Math_ScoreSer=pd.Series(Average_Math_Score)\n",
    "pMthPctSer=pd.Series(pMthPct)\n",
    "pRdPctSer=pd.Series(pRdPct)\n"
   ]
  },
  {
   "cell_type": "code",
   "execution_count": 40,
   "metadata": {},
   "outputs": [
    {
     "data": {
      "text/plain": [
       "0     66.68\n",
       "1     94.13\n",
       "2     65.99\n",
       "3     68.31\n",
       "4     93.39\n",
       "5     66.75\n",
       "6     92.51\n",
       "7     65.68\n",
       "8     66.06\n",
       "9     94.59\n",
       "10    66.37\n",
       "11    93.87\n",
       "12    93.27\n",
       "13    93.87\n",
       "14    93.33\n",
       "dtype: float64"
      ]
     },
     "execution_count": 40,
     "metadata": {},
     "output_type": "execute_result"
    }
   ],
   "source": [
    "pMthPctSer"
   ]
  },
  {
   "cell_type": "code",
   "execution_count": null,
   "metadata": {},
   "outputs": [],
   "source": [
    "     \n"
   ]
  },
  {
   "cell_type": "code",
   "execution_count": 41,
   "metadata": {},
   "outputs": [],
   "source": [
    "#type(schoolStudents)\n"
   ]
  },
  {
   "cell_type": "code",
   "execution_count": 42,
   "metadata": {},
   "outputs": [
    {
     "data": {
      "text/html": [
       "<div>\n",
       "<style scoped>\n",
       "    .dataframe tbody tr th:only-of-type {\n",
       "        vertical-align: middle;\n",
       "    }\n",
       "\n",
       "    .dataframe tbody tr th {\n",
       "        vertical-align: top;\n",
       "    }\n",
       "\n",
       "    .dataframe thead th {\n",
       "        text-align: right;\n",
       "    }\n",
       "</style>\n",
       "<table border=\"1\" class=\"dataframe\">\n",
       "  <thead>\n",
       "    <tr style=\"text-align: right;\">\n",
       "      <th></th>\n",
       "      <th>schoolName</th>\n",
       "      <th>schoolType</th>\n",
       "      <th>schoolStudents</th>\n",
       "      <th>bySchoolBudget</th>\n",
       "      <th>perStudentBudget</th>\n",
       "      <th>Average_Read_Score</th>\n",
       "      <th>avgMathScore</th>\n",
       "      <th>passMthPct</th>\n",
       "      <th>passRdPct</th>\n",
       "      <th>overallPct</th>\n",
       "    </tr>\n",
       "  </thead>\n",
       "  <tbody>\n",
       "    <tr>\n",
       "      <th>0</th>\n",
       "      <td>Bailey High School</td>\n",
       "      <td>District</td>\n",
       "      <td>4976</td>\n",
       "      <td>3124928</td>\n",
       "      <td>628.0</td>\n",
       "      <td>81.03</td>\n",
       "      <td>77.05</td>\n",
       "      <td>66.68</td>\n",
       "      <td>81.93</td>\n",
       "      <td>74.31</td>\n",
       "    </tr>\n",
       "    <tr>\n",
       "      <th>1</th>\n",
       "      <td>Cabrera High School</td>\n",
       "      <td>Charter</td>\n",
       "      <td>1858</td>\n",
       "      <td>1081356</td>\n",
       "      <td>582.0</td>\n",
       "      <td>83.98</td>\n",
       "      <td>83.06</td>\n",
       "      <td>94.13</td>\n",
       "      <td>97.04</td>\n",
       "      <td>95.58</td>\n",
       "    </tr>\n",
       "    <tr>\n",
       "      <th>2</th>\n",
       "      <td>Figueroa High School</td>\n",
       "      <td>District</td>\n",
       "      <td>2949</td>\n",
       "      <td>1884411</td>\n",
       "      <td>639.0</td>\n",
       "      <td>81.16</td>\n",
       "      <td>76.71</td>\n",
       "      <td>65.99</td>\n",
       "      <td>80.74</td>\n",
       "      <td>73.36</td>\n",
       "    </tr>\n",
       "    <tr>\n",
       "      <th>3</th>\n",
       "      <td>Ford High School</td>\n",
       "      <td>District</td>\n",
       "      <td>2739</td>\n",
       "      <td>1763916</td>\n",
       "      <td>644.0</td>\n",
       "      <td>80.75</td>\n",
       "      <td>77.10</td>\n",
       "      <td>68.31</td>\n",
       "      <td>79.30</td>\n",
       "      <td>73.81</td>\n",
       "    </tr>\n",
       "    <tr>\n",
       "      <th>4</th>\n",
       "      <td>Griffin High School</td>\n",
       "      <td>Charter</td>\n",
       "      <td>1468</td>\n",
       "      <td>917500</td>\n",
       "      <td>625.0</td>\n",
       "      <td>83.82</td>\n",
       "      <td>83.35</td>\n",
       "      <td>93.39</td>\n",
       "      <td>97.14</td>\n",
       "      <td>95.26</td>\n",
       "    </tr>\n",
       "    <tr>\n",
       "      <th>5</th>\n",
       "      <td>Hernandez High School</td>\n",
       "      <td>District</td>\n",
       "      <td>4635</td>\n",
       "      <td>3022020</td>\n",
       "      <td>652.0</td>\n",
       "      <td>80.93</td>\n",
       "      <td>77.29</td>\n",
       "      <td>66.75</td>\n",
       "      <td>80.86</td>\n",
       "      <td>73.81</td>\n",
       "    </tr>\n",
       "    <tr>\n",
       "      <th>6</th>\n",
       "      <td>Holden High School</td>\n",
       "      <td>Charter</td>\n",
       "      <td>427</td>\n",
       "      <td>248087</td>\n",
       "      <td>581.0</td>\n",
       "      <td>83.81</td>\n",
       "      <td>83.80</td>\n",
       "      <td>92.51</td>\n",
       "      <td>96.25</td>\n",
       "      <td>94.38</td>\n",
       "    </tr>\n",
       "    <tr>\n",
       "      <th>7</th>\n",
       "      <td>Huang High School</td>\n",
       "      <td>District</td>\n",
       "      <td>2917</td>\n",
       "      <td>1910635</td>\n",
       "      <td>655.0</td>\n",
       "      <td>81.18</td>\n",
       "      <td>76.63</td>\n",
       "      <td>65.68</td>\n",
       "      <td>81.32</td>\n",
       "      <td>73.50</td>\n",
       "    </tr>\n",
       "    <tr>\n",
       "      <th>8</th>\n",
       "      <td>Johnson High School</td>\n",
       "      <td>District</td>\n",
       "      <td>4761</td>\n",
       "      <td>3094650</td>\n",
       "      <td>650.0</td>\n",
       "      <td>80.97</td>\n",
       "      <td>77.07</td>\n",
       "      <td>66.06</td>\n",
       "      <td>81.22</td>\n",
       "      <td>73.64</td>\n",
       "    </tr>\n",
       "    <tr>\n",
       "      <th>9</th>\n",
       "      <td>Pena High School</td>\n",
       "      <td>Charter</td>\n",
       "      <td>962</td>\n",
       "      <td>585858</td>\n",
       "      <td>609.0</td>\n",
       "      <td>84.04</td>\n",
       "      <td>83.84</td>\n",
       "      <td>94.59</td>\n",
       "      <td>95.95</td>\n",
       "      <td>95.27</td>\n",
       "    </tr>\n",
       "    <tr>\n",
       "      <th>10</th>\n",
       "      <td>Rodriguez High School</td>\n",
       "      <td>District</td>\n",
       "      <td>3999</td>\n",
       "      <td>2547363</td>\n",
       "      <td>637.0</td>\n",
       "      <td>80.74</td>\n",
       "      <td>76.84</td>\n",
       "      <td>66.37</td>\n",
       "      <td>80.22</td>\n",
       "      <td>73.30</td>\n",
       "    </tr>\n",
       "    <tr>\n",
       "      <th>11</th>\n",
       "      <td>Shelton High School</td>\n",
       "      <td>Charter</td>\n",
       "      <td>1761</td>\n",
       "      <td>1056600</td>\n",
       "      <td>600.0</td>\n",
       "      <td>83.73</td>\n",
       "      <td>83.36</td>\n",
       "      <td>93.87</td>\n",
       "      <td>95.85</td>\n",
       "      <td>94.86</td>\n",
       "    </tr>\n",
       "    <tr>\n",
       "      <th>12</th>\n",
       "      <td>Thomas High School</td>\n",
       "      <td>Charter</td>\n",
       "      <td>1635</td>\n",
       "      <td>1043130</td>\n",
       "      <td>638.0</td>\n",
       "      <td>83.85</td>\n",
       "      <td>83.42</td>\n",
       "      <td>93.27</td>\n",
       "      <td>97.31</td>\n",
       "      <td>95.29</td>\n",
       "    </tr>\n",
       "    <tr>\n",
       "      <th>13</th>\n",
       "      <td>Wilson High School</td>\n",
       "      <td>Charter</td>\n",
       "      <td>2283</td>\n",
       "      <td>1319574</td>\n",
       "      <td>578.0</td>\n",
       "      <td>83.99</td>\n",
       "      <td>83.27</td>\n",
       "      <td>93.87</td>\n",
       "      <td>96.54</td>\n",
       "      <td>95.21</td>\n",
       "    </tr>\n",
       "    <tr>\n",
       "      <th>14</th>\n",
       "      <td>Wright High School</td>\n",
       "      <td>Charter</td>\n",
       "      <td>1800</td>\n",
       "      <td>1049400</td>\n",
       "      <td>583.0</td>\n",
       "      <td>83.96</td>\n",
       "      <td>83.68</td>\n",
       "      <td>93.33</td>\n",
       "      <td>96.61</td>\n",
       "      <td>94.97</td>\n",
       "    </tr>\n",
       "  </tbody>\n",
       "</table>\n",
       "</div>"
      ],
      "text/plain": [
       "               schoolName schoolType  schoolStudents  bySchoolBudget  \\\n",
       "0      Bailey High School   District            4976         3124928   \n",
       "1     Cabrera High School    Charter            1858         1081356   \n",
       "2    Figueroa High School   District            2949         1884411   \n",
       "3        Ford High School   District            2739         1763916   \n",
       "4     Griffin High School    Charter            1468          917500   \n",
       "5   Hernandez High School   District            4635         3022020   \n",
       "6      Holden High School    Charter             427          248087   \n",
       "7       Huang High School   District            2917         1910635   \n",
       "8     Johnson High School   District            4761         3094650   \n",
       "9        Pena High School    Charter             962          585858   \n",
       "10  Rodriguez High School   District            3999         2547363   \n",
       "11    Shelton High School    Charter            1761         1056600   \n",
       "12     Thomas High School    Charter            1635         1043130   \n",
       "13     Wilson High School    Charter            2283         1319574   \n",
       "14     Wright High School    Charter            1800         1049400   \n",
       "\n",
       "    perStudentBudget  Average_Read_Score  avgMathScore  passMthPct  passRdPct  \\\n",
       "0              628.0               81.03         77.05       66.68      81.93   \n",
       "1              582.0               83.98         83.06       94.13      97.04   \n",
       "2              639.0               81.16         76.71       65.99      80.74   \n",
       "3              644.0               80.75         77.10       68.31      79.30   \n",
       "4              625.0               83.82         83.35       93.39      97.14   \n",
       "5              652.0               80.93         77.29       66.75      80.86   \n",
       "6              581.0               83.81         83.80       92.51      96.25   \n",
       "7              655.0               81.18         76.63       65.68      81.32   \n",
       "8              650.0               80.97         77.07       66.06      81.22   \n",
       "9              609.0               84.04         83.84       94.59      95.95   \n",
       "10             637.0               80.74         76.84       66.37      80.22   \n",
       "11             600.0               83.73         83.36       93.87      95.85   \n",
       "12             638.0               83.85         83.42       93.27      97.31   \n",
       "13             578.0               83.99         83.27       93.87      96.54   \n",
       "14             583.0               83.96         83.68       93.33      96.61   \n",
       "\n",
       "    overallPct  \n",
       "0        74.31  \n",
       "1        95.58  \n",
       "2        73.36  \n",
       "3        73.81  \n",
       "4        95.26  \n",
       "5        73.81  \n",
       "6        94.38  \n",
       "7        73.50  \n",
       "8        73.64  \n",
       "9        95.27  \n",
       "10       73.30  \n",
       "11       94.86  \n",
       "12       95.29  \n",
       "13       95.21  \n",
       "14       94.97  "
      ]
     },
     "execution_count": 42,
     "metadata": {},
     "output_type": "execute_result"
    }
   ],
   "source": [
    "#concatenation of each series; need to chk\n",
    "\n",
    "\n",
    "mstrSrs=(pd.concat([schoolName, school_type, schoolStudentsSer, bySchoolBudgetSer, perStudentBudgetSer,Average_Read_ScoreSer,\\\n",
    "                    Average_Math_ScoreSer,pMthPctSer,pRdPctSer, overallPctSer], axis=1))\n",
    "\n",
    "mstrSrs.columns=['schoolName','schoolType', 'schoolStudents','bySchoolBudget','perStudentBudget','Average_Read_Score',\\\n",
    "                 'avgMathScore','passMthPct','passRdPct','overallPct']\n",
    "\n",
    "mstrSrs"
   ]
  },
  {
   "cell_type": "code",
   "execution_count": null,
   "metadata": {},
   "outputs": [],
   "source": [
    "\n"
   ]
  },
  {
   "cell_type": "code",
   "execution_count": 44,
   "metadata": {},
   "outputs": [
    {
     "data": {
      "text/html": [
       "<div>\n",
       "<style scoped>\n",
       "    .dataframe tbody tr th:only-of-type {\n",
       "        vertical-align: middle;\n",
       "    }\n",
       "\n",
       "    .dataframe tbody tr th {\n",
       "        vertical-align: top;\n",
       "    }\n",
       "\n",
       "    .dataframe thead th {\n",
       "        text-align: right;\n",
       "    }\n",
       "</style>\n",
       "<table border=\"1\" class=\"dataframe\">\n",
       "  <thead>\n",
       "    <tr style=\"text-align: right;\">\n",
       "      <th></th>\n",
       "      <th>0</th>\n",
       "      <th>1</th>\n",
       "      <th>2</th>\n",
       "      <th>3</th>\n",
       "      <th>4</th>\n",
       "      <th>5</th>\n",
       "      <th>6</th>\n",
       "      <th>7</th>\n",
       "      <th>8</th>\n",
       "      <th>9</th>\n",
       "      <th>10</th>\n",
       "      <th>11</th>\n",
       "      <th>12</th>\n",
       "      <th>13</th>\n",
       "      <th>14</th>\n",
       "    </tr>\n",
       "  </thead>\n",
       "  <tbody>\n",
       "    <tr>\n",
       "      <th>schoolName</th>\n",
       "      <td>Bailey High School</td>\n",
       "      <td>Cabrera High School</td>\n",
       "      <td>Figueroa High School</td>\n",
       "      <td>Ford High School</td>\n",
       "      <td>Griffin High School</td>\n",
       "      <td>Hernandez High School</td>\n",
       "      <td>Holden High School</td>\n",
       "      <td>Huang High School</td>\n",
       "      <td>Johnson High School</td>\n",
       "      <td>Pena High School</td>\n",
       "      <td>Rodriguez High School</td>\n",
       "      <td>Shelton High School</td>\n",
       "      <td>Thomas High School</td>\n",
       "      <td>Wilson High School</td>\n",
       "      <td>Wright High School</td>\n",
       "    </tr>\n",
       "    <tr>\n",
       "      <th>schoolType</th>\n",
       "      <td>District</td>\n",
       "      <td>Charter</td>\n",
       "      <td>District</td>\n",
       "      <td>District</td>\n",
       "      <td>Charter</td>\n",
       "      <td>District</td>\n",
       "      <td>Charter</td>\n",
       "      <td>District</td>\n",
       "      <td>District</td>\n",
       "      <td>Charter</td>\n",
       "      <td>District</td>\n",
       "      <td>Charter</td>\n",
       "      <td>Charter</td>\n",
       "      <td>Charter</td>\n",
       "      <td>Charter</td>\n",
       "    </tr>\n",
       "    <tr>\n",
       "      <th>schoolStudents</th>\n",
       "      <td>4976</td>\n",
       "      <td>1858</td>\n",
       "      <td>2949</td>\n",
       "      <td>2739</td>\n",
       "      <td>1468</td>\n",
       "      <td>4635</td>\n",
       "      <td>427</td>\n",
       "      <td>2917</td>\n",
       "      <td>4761</td>\n",
       "      <td>962</td>\n",
       "      <td>3999</td>\n",
       "      <td>1761</td>\n",
       "      <td>1635</td>\n",
       "      <td>2283</td>\n",
       "      <td>1800</td>\n",
       "    </tr>\n",
       "    <tr>\n",
       "      <th>bySchoolBudget</th>\n",
       "      <td>3124928</td>\n",
       "      <td>1081356</td>\n",
       "      <td>1884411</td>\n",
       "      <td>1763916</td>\n",
       "      <td>917500</td>\n",
       "      <td>3022020</td>\n",
       "      <td>248087</td>\n",
       "      <td>1910635</td>\n",
       "      <td>3094650</td>\n",
       "      <td>585858</td>\n",
       "      <td>2547363</td>\n",
       "      <td>1056600</td>\n",
       "      <td>1043130</td>\n",
       "      <td>1319574</td>\n",
       "      <td>1049400</td>\n",
       "    </tr>\n",
       "    <tr>\n",
       "      <th>perStudentBudget</th>\n",
       "      <td>628</td>\n",
       "      <td>582</td>\n",
       "      <td>639</td>\n",
       "      <td>644</td>\n",
       "      <td>625</td>\n",
       "      <td>652</td>\n",
       "      <td>581</td>\n",
       "      <td>655</td>\n",
       "      <td>650</td>\n",
       "      <td>609</td>\n",
       "      <td>637</td>\n",
       "      <td>600</td>\n",
       "      <td>638</td>\n",
       "      <td>578</td>\n",
       "      <td>583</td>\n",
       "    </tr>\n",
       "    <tr>\n",
       "      <th>Average_Read_Score</th>\n",
       "      <td>81.03</td>\n",
       "      <td>83.98</td>\n",
       "      <td>81.16</td>\n",
       "      <td>80.75</td>\n",
       "      <td>83.82</td>\n",
       "      <td>80.93</td>\n",
       "      <td>83.81</td>\n",
       "      <td>81.18</td>\n",
       "      <td>80.97</td>\n",
       "      <td>84.04</td>\n",
       "      <td>80.74</td>\n",
       "      <td>83.73</td>\n",
       "      <td>83.85</td>\n",
       "      <td>83.99</td>\n",
       "      <td>83.96</td>\n",
       "    </tr>\n",
       "    <tr>\n",
       "      <th>avgMathScore</th>\n",
       "      <td>77.05</td>\n",
       "      <td>83.06</td>\n",
       "      <td>76.71</td>\n",
       "      <td>77.1</td>\n",
       "      <td>83.35</td>\n",
       "      <td>77.29</td>\n",
       "      <td>83.8</td>\n",
       "      <td>76.63</td>\n",
       "      <td>77.07</td>\n",
       "      <td>83.84</td>\n",
       "      <td>76.84</td>\n",
       "      <td>83.36</td>\n",
       "      <td>83.42</td>\n",
       "      <td>83.27</td>\n",
       "      <td>83.68</td>\n",
       "    </tr>\n",
       "    <tr>\n",
       "      <th>passMthPct</th>\n",
       "      <td>66.68</td>\n",
       "      <td>94.13</td>\n",
       "      <td>65.99</td>\n",
       "      <td>68.31</td>\n",
       "      <td>93.39</td>\n",
       "      <td>66.75</td>\n",
       "      <td>92.51</td>\n",
       "      <td>65.68</td>\n",
       "      <td>66.06</td>\n",
       "      <td>94.59</td>\n",
       "      <td>66.37</td>\n",
       "      <td>93.87</td>\n",
       "      <td>93.27</td>\n",
       "      <td>93.87</td>\n",
       "      <td>93.33</td>\n",
       "    </tr>\n",
       "    <tr>\n",
       "      <th>passRdPct</th>\n",
       "      <td>81.93</td>\n",
       "      <td>97.04</td>\n",
       "      <td>80.74</td>\n",
       "      <td>79.3</td>\n",
       "      <td>97.14</td>\n",
       "      <td>80.86</td>\n",
       "      <td>96.25</td>\n",
       "      <td>81.32</td>\n",
       "      <td>81.22</td>\n",
       "      <td>95.95</td>\n",
       "      <td>80.22</td>\n",
       "      <td>95.85</td>\n",
       "      <td>97.31</td>\n",
       "      <td>96.54</td>\n",
       "      <td>96.61</td>\n",
       "    </tr>\n",
       "    <tr>\n",
       "      <th>overallPct</th>\n",
       "      <td>74.31</td>\n",
       "      <td>95.58</td>\n",
       "      <td>73.36</td>\n",
       "      <td>73.81</td>\n",
       "      <td>95.26</td>\n",
       "      <td>73.81</td>\n",
       "      <td>94.38</td>\n",
       "      <td>73.5</td>\n",
       "      <td>73.64</td>\n",
       "      <td>95.27</td>\n",
       "      <td>73.3</td>\n",
       "      <td>94.86</td>\n",
       "      <td>95.29</td>\n",
       "      <td>95.21</td>\n",
       "      <td>94.97</td>\n",
       "    </tr>\n",
       "  </tbody>\n",
       "</table>\n",
       "</div>"
      ],
      "text/plain": [
       "                                    0                    1   \\\n",
       "schoolName          Bailey High School  Cabrera High School   \n",
       "schoolType                    District              Charter   \n",
       "schoolStudents                    4976                 1858   \n",
       "bySchoolBudget                 3124928              1081356   \n",
       "perStudentBudget                   628                  582   \n",
       "Average_Read_Score               81.03                83.98   \n",
       "avgMathScore                     77.05                83.06   \n",
       "passMthPct                       66.68                94.13   \n",
       "passRdPct                        81.93                97.04   \n",
       "overallPct                       74.31                95.58   \n",
       "\n",
       "                                      2                 3   \\\n",
       "schoolName          Figueroa High School  Ford High School   \n",
       "schoolType                      District          District   \n",
       "schoolStudents                      2949              2739   \n",
       "bySchoolBudget                   1884411           1763916   \n",
       "perStudentBudget                     639               644   \n",
       "Average_Read_Score                 81.16             80.75   \n",
       "avgMathScore                       76.71              77.1   \n",
       "passMthPct                         65.99             68.31   \n",
       "passRdPct                          80.74              79.3   \n",
       "overallPct                         73.36             73.81   \n",
       "\n",
       "                                     4                      5   \\\n",
       "schoolName          Griffin High School  Hernandez High School   \n",
       "schoolType                      Charter               District   \n",
       "schoolStudents                     1468                   4635   \n",
       "bySchoolBudget                   917500                3022020   \n",
       "perStudentBudget                    625                    652   \n",
       "Average_Read_Score                83.82                  80.93   \n",
       "avgMathScore                      83.35                  77.29   \n",
       "passMthPct                        93.39                  66.75   \n",
       "passRdPct                         97.14                  80.86   \n",
       "overallPct                        95.26                  73.81   \n",
       "\n",
       "                                    6                  7   \\\n",
       "schoolName          Holden High School  Huang High School   \n",
       "schoolType                     Charter           District   \n",
       "schoolStudents                     427               2917   \n",
       "bySchoolBudget                  248087            1910635   \n",
       "perStudentBudget                   581                655   \n",
       "Average_Read_Score               83.81              81.18   \n",
       "avgMathScore                      83.8              76.63   \n",
       "passMthPct                       92.51              65.68   \n",
       "passRdPct                        96.25              81.32   \n",
       "overallPct                       94.38               73.5   \n",
       "\n",
       "                                     8                 9   \\\n",
       "schoolName          Johnson High School  Pena High School   \n",
       "schoolType                     District           Charter   \n",
       "schoolStudents                     4761               962   \n",
       "bySchoolBudget                  3094650            585858   \n",
       "perStudentBudget                    650               609   \n",
       "Average_Read_Score                80.97             84.04   \n",
       "avgMathScore                      77.07             83.84   \n",
       "passMthPct                        66.06             94.59   \n",
       "passRdPct                         81.22             95.95   \n",
       "overallPct                        73.64             95.27   \n",
       "\n",
       "                                       10                   11  \\\n",
       "schoolName          Rodriguez High School  Shelton High School   \n",
       "schoolType                       District              Charter   \n",
       "schoolStudents                       3999                 1761   \n",
       "bySchoolBudget                    2547363              1056600   \n",
       "perStudentBudget                      637                  600   \n",
       "Average_Read_Score                  80.74                83.73   \n",
       "avgMathScore                        76.84                83.36   \n",
       "passMthPct                          66.37                93.87   \n",
       "passRdPct                           80.22                95.85   \n",
       "overallPct                           73.3                94.86   \n",
       "\n",
       "                                    12                  13                  14  \n",
       "schoolName          Thomas High School  Wilson High School  Wright High School  \n",
       "schoolType                     Charter             Charter             Charter  \n",
       "schoolStudents                    1635                2283                1800  \n",
       "bySchoolBudget                 1043130             1319574             1049400  \n",
       "perStudentBudget                   638                 578                 583  \n",
       "Average_Read_Score               83.85               83.99               83.96  \n",
       "avgMathScore                     83.42               83.27               83.68  \n",
       "passMthPct                       93.27               93.87               93.33  \n",
       "passRdPct                        97.31               96.54               96.61  \n",
       "overallPct                       95.29               95.21               94.97  "
      ]
     },
     "execution_count": 44,
     "metadata": {},
     "output_type": "execute_result"
    }
   ],
   "source": [
    "mstrSrs.transpose()"
   ]
  },
  {
   "cell_type": "markdown",
   "metadata": {},
   "source": [
    "## Top Performing Schools (By Passing Rate)"
   ]
  },
  {
   "cell_type": "markdown",
   "metadata": {},
   "source": [
    "* Sort and display the top five schools in overall passing rate"
   ]
  },
  {
   "cell_type": "code",
   "execution_count": 45,
   "metadata": {},
   "outputs": [
    {
     "data": {
      "text/html": [
       "<div>\n",
       "<style scoped>\n",
       "    .dataframe tbody tr th:only-of-type {\n",
       "        vertical-align: middle;\n",
       "    }\n",
       "\n",
       "    .dataframe tbody tr th {\n",
       "        vertical-align: top;\n",
       "    }\n",
       "\n",
       "    .dataframe thead th {\n",
       "        text-align: right;\n",
       "    }\n",
       "</style>\n",
       "<table border=\"1\" class=\"dataframe\">\n",
       "  <thead>\n",
       "    <tr style=\"text-align: right;\">\n",
       "      <th></th>\n",
       "      <th>schoolName</th>\n",
       "      <th>schoolType</th>\n",
       "      <th>schoolStudents</th>\n",
       "      <th>bySchoolBudget</th>\n",
       "      <th>perStudentBudget</th>\n",
       "      <th>Average_Read_Score</th>\n",
       "      <th>avgMathScore</th>\n",
       "      <th>passMthPct</th>\n",
       "      <th>passRdPct</th>\n",
       "      <th>overallPct</th>\n",
       "    </tr>\n",
       "  </thead>\n",
       "  <tbody>\n",
       "    <tr>\n",
       "      <th>1</th>\n",
       "      <td>Cabrera High School</td>\n",
       "      <td>Charter</td>\n",
       "      <td>1858</td>\n",
       "      <td>1081356</td>\n",
       "      <td>582.0</td>\n",
       "      <td>83.98</td>\n",
       "      <td>83.06</td>\n",
       "      <td>94.13</td>\n",
       "      <td>97.04</td>\n",
       "      <td>95.58</td>\n",
       "    </tr>\n",
       "    <tr>\n",
       "      <th>12</th>\n",
       "      <td>Thomas High School</td>\n",
       "      <td>Charter</td>\n",
       "      <td>1635</td>\n",
       "      <td>1043130</td>\n",
       "      <td>638.0</td>\n",
       "      <td>83.85</td>\n",
       "      <td>83.42</td>\n",
       "      <td>93.27</td>\n",
       "      <td>97.31</td>\n",
       "      <td>95.29</td>\n",
       "    </tr>\n",
       "    <tr>\n",
       "      <th>9</th>\n",
       "      <td>Pena High School</td>\n",
       "      <td>Charter</td>\n",
       "      <td>962</td>\n",
       "      <td>585858</td>\n",
       "      <td>609.0</td>\n",
       "      <td>84.04</td>\n",
       "      <td>83.84</td>\n",
       "      <td>94.59</td>\n",
       "      <td>95.95</td>\n",
       "      <td>95.27</td>\n",
       "    </tr>\n",
       "    <tr>\n",
       "      <th>4</th>\n",
       "      <td>Griffin High School</td>\n",
       "      <td>Charter</td>\n",
       "      <td>1468</td>\n",
       "      <td>917500</td>\n",
       "      <td>625.0</td>\n",
       "      <td>83.82</td>\n",
       "      <td>83.35</td>\n",
       "      <td>93.39</td>\n",
       "      <td>97.14</td>\n",
       "      <td>95.26</td>\n",
       "    </tr>\n",
       "    <tr>\n",
       "      <th>13</th>\n",
       "      <td>Wilson High School</td>\n",
       "      <td>Charter</td>\n",
       "      <td>2283</td>\n",
       "      <td>1319574</td>\n",
       "      <td>578.0</td>\n",
       "      <td>83.99</td>\n",
       "      <td>83.27</td>\n",
       "      <td>93.87</td>\n",
       "      <td>96.54</td>\n",
       "      <td>95.21</td>\n",
       "    </tr>\n",
       "  </tbody>\n",
       "</table>\n",
       "</div>"
      ],
      "text/plain": [
       "             schoolName schoolType  schoolStudents  bySchoolBudget  \\\n",
       "1   Cabrera High School    Charter            1858         1081356   \n",
       "12   Thomas High School    Charter            1635         1043130   \n",
       "9      Pena High School    Charter             962          585858   \n",
       "4   Griffin High School    Charter            1468          917500   \n",
       "13   Wilson High School    Charter            2283         1319574   \n",
       "\n",
       "    perStudentBudget  Average_Read_Score  avgMathScore  passMthPct  passRdPct  \\\n",
       "1              582.0               83.98         83.06       94.13      97.04   \n",
       "12             638.0               83.85         83.42       93.27      97.31   \n",
       "9              609.0               84.04         83.84       94.59      95.95   \n",
       "4              625.0               83.82         83.35       93.39      97.14   \n",
       "13             578.0               83.99         83.27       93.87      96.54   \n",
       "\n",
       "    overallPct  \n",
       "1        95.58  \n",
       "12       95.29  \n",
       "9        95.27  \n",
       "4        95.26  \n",
       "13       95.21  "
      ]
     },
     "execution_count": 45,
     "metadata": {},
     "output_type": "execute_result"
    }
   ],
   "source": [
    "topPassingRate = mstrSrs.sort_values('overallPct',ascending=False)\n",
    "topPassingRate.head()"
   ]
  },
  {
   "cell_type": "markdown",
   "metadata": {},
   "source": [
    "## Bottom Performing Schools (By Passing Rate)"
   ]
  },
  {
   "cell_type": "markdown",
   "metadata": {},
   "source": [
    "* Sort and display the five worst-performing schools"
   ]
  },
  {
   "cell_type": "code",
   "execution_count": 46,
   "metadata": {},
   "outputs": [
    {
     "data": {
      "text/html": [
       "<div>\n",
       "<style scoped>\n",
       "    .dataframe tbody tr th:only-of-type {\n",
       "        vertical-align: middle;\n",
       "    }\n",
       "\n",
       "    .dataframe tbody tr th {\n",
       "        vertical-align: top;\n",
       "    }\n",
       "\n",
       "    .dataframe thead th {\n",
       "        text-align: right;\n",
       "    }\n",
       "</style>\n",
       "<table border=\"1\" class=\"dataframe\">\n",
       "  <thead>\n",
       "    <tr style=\"text-align: right;\">\n",
       "      <th></th>\n",
       "      <th>schoolName</th>\n",
       "      <th>schoolType</th>\n",
       "      <th>schoolStudents</th>\n",
       "      <th>bySchoolBudget</th>\n",
       "      <th>perStudentBudget</th>\n",
       "      <th>Average_Read_Score</th>\n",
       "      <th>avgMathScore</th>\n",
       "      <th>passMthPct</th>\n",
       "      <th>passRdPct</th>\n",
       "      <th>overallPct</th>\n",
       "    </tr>\n",
       "  </thead>\n",
       "  <tbody>\n",
       "    <tr>\n",
       "      <th>10</th>\n",
       "      <td>Rodriguez High School</td>\n",
       "      <td>District</td>\n",
       "      <td>3999</td>\n",
       "      <td>2547363</td>\n",
       "      <td>637.0</td>\n",
       "      <td>80.74</td>\n",
       "      <td>76.84</td>\n",
       "      <td>66.37</td>\n",
       "      <td>80.22</td>\n",
       "      <td>73.30</td>\n",
       "    </tr>\n",
       "    <tr>\n",
       "      <th>2</th>\n",
       "      <td>Figueroa High School</td>\n",
       "      <td>District</td>\n",
       "      <td>2949</td>\n",
       "      <td>1884411</td>\n",
       "      <td>639.0</td>\n",
       "      <td>81.16</td>\n",
       "      <td>76.71</td>\n",
       "      <td>65.99</td>\n",
       "      <td>80.74</td>\n",
       "      <td>73.36</td>\n",
       "    </tr>\n",
       "    <tr>\n",
       "      <th>7</th>\n",
       "      <td>Huang High School</td>\n",
       "      <td>District</td>\n",
       "      <td>2917</td>\n",
       "      <td>1910635</td>\n",
       "      <td>655.0</td>\n",
       "      <td>81.18</td>\n",
       "      <td>76.63</td>\n",
       "      <td>65.68</td>\n",
       "      <td>81.32</td>\n",
       "      <td>73.50</td>\n",
       "    </tr>\n",
       "    <tr>\n",
       "      <th>8</th>\n",
       "      <td>Johnson High School</td>\n",
       "      <td>District</td>\n",
       "      <td>4761</td>\n",
       "      <td>3094650</td>\n",
       "      <td>650.0</td>\n",
       "      <td>80.97</td>\n",
       "      <td>77.07</td>\n",
       "      <td>66.06</td>\n",
       "      <td>81.22</td>\n",
       "      <td>73.64</td>\n",
       "    </tr>\n",
       "    <tr>\n",
       "      <th>3</th>\n",
       "      <td>Ford High School</td>\n",
       "      <td>District</td>\n",
       "      <td>2739</td>\n",
       "      <td>1763916</td>\n",
       "      <td>644.0</td>\n",
       "      <td>80.75</td>\n",
       "      <td>77.10</td>\n",
       "      <td>68.31</td>\n",
       "      <td>79.30</td>\n",
       "      <td>73.81</td>\n",
       "    </tr>\n",
       "  </tbody>\n",
       "</table>\n",
       "</div>"
      ],
      "text/plain": [
       "               schoolName schoolType  schoolStudents  bySchoolBudget  \\\n",
       "10  Rodriguez High School   District            3999         2547363   \n",
       "2    Figueroa High School   District            2949         1884411   \n",
       "7       Huang High School   District            2917         1910635   \n",
       "8     Johnson High School   District            4761         3094650   \n",
       "3        Ford High School   District            2739         1763916   \n",
       "\n",
       "    perStudentBudget  Average_Read_Score  avgMathScore  passMthPct  passRdPct  \\\n",
       "10             637.0               80.74         76.84       66.37      80.22   \n",
       "2              639.0               81.16         76.71       65.99      80.74   \n",
       "7              655.0               81.18         76.63       65.68      81.32   \n",
       "8              650.0               80.97         77.07       66.06      81.22   \n",
       "3              644.0               80.75         77.10       68.31      79.30   \n",
       "\n",
       "    overallPct  \n",
       "10       73.30  \n",
       "2        73.36  \n",
       "7        73.50  \n",
       "8        73.64  \n",
       "3        73.81  "
      ]
     },
     "execution_count": 46,
     "metadata": {},
     "output_type": "execute_result"
    }
   ],
   "source": [
    "bottomPassingRate = mstrSrs.sort_values('overallPct',ascending=True)\n",
    "bottomPassingRate.head()"
   ]
  },
  {
   "cell_type": "markdown",
   "metadata": {
    "collapsed": true
   },
   "source": [
    "## Math Scores by Grade"
   ]
  },
  {
   "cell_type": "markdown",
   "metadata": {},
   "source": [
    "* Create a table that lists the average Reading Score for students of each grade level (9th, 10th, 11th, 12th) at each school.\n",
    "\n",
    "  * Create a pandas series for each grade. Hint: use a conditional statement.\n",
    "  \n",
    "  * Group each series by school\n",
    "  \n",
    "  * Combine the series into a dataframe\n",
    "  \n",
    "  * Optional: give the displayed data cleaner formatting"
   ]
  },
  {
   "cell_type": "code",
   "execution_count": 47,
   "metadata": {},
   "outputs": [
    {
     "data": {
      "text/plain": [
       "'rows represent school names, columns represent grades\\n\\n\\n\\n\\n\\n'"
      ]
     },
     "execution_count": 47,
     "metadata": {},
     "output_type": "execute_result"
    }
   ],
   "source": [
    "'''rows represent school names, columns represent grades\n",
    "\n",
    "\n",
    "\n",
    "\n",
    "\n",
    "'''"
   ]
  },
  {
   "cell_type": "markdown",
   "metadata": {},
   "source": [
    "## Reading Score by Grade "
   ]
  },
  {
   "cell_type": "markdown",
   "metadata": {},
   "source": [
    "* Perform the same operations as above for reading scores"
   ]
  },
  {
   "cell_type": "code",
   "execution_count": null,
   "metadata": {},
   "outputs": [],
   "source": []
  },
  {
   "cell_type": "markdown",
   "metadata": {},
   "source": [
    "## Scores by School Spending"
   ]
  },
  {
   "cell_type": "markdown",
   "metadata": {},
   "source": [
    "* Create a table that breaks down school performances based on average Spending Ranges (Per Student). Use 4 reasonable bins to group school spending. Include in the table each of the following:\n",
    "  * Average Math Score\n",
    "  * Average Reading Score\n",
    "  * % Passing Math\n",
    "  * % Passing Reading\n",
    "  * Overall Passing Rate (Average of the above two)"
   ]
  },
  {
   "cell_type": "code",
   "execution_count": 63,
   "metadata": {},
   "outputs": [],
   "source": [
    "# Sample bins. Feel free to create your own bins.\n",
    "spending_bins = [0, 585, 615, 645, 675]\n",
    "group_names = [\"<$585\", \"$585-615\", \"$615-645\", \"$645-675\"]"
   ]
  },
  {
   "cell_type": "code",
   "execution_count": null,
   "metadata": {},
   "outputs": [],
   "source": []
  },
  {
   "cell_type": "code",
   "execution_count": 69,
   "metadata": {},
   "outputs": [
    {
     "data": {
      "text/html": [
       "<div>\n",
       "<style scoped>\n",
       "    .dataframe tbody tr th:only-of-type {\n",
       "        vertical-align: middle;\n",
       "    }\n",
       "\n",
       "    .dataframe tbody tr th {\n",
       "        vertical-align: top;\n",
       "    }\n",
       "\n",
       "    .dataframe thead th {\n",
       "        text-align: right;\n",
       "    }\n",
       "</style>\n",
       "<table border=\"1\" class=\"dataframe\">\n",
       "  <thead>\n",
       "    <tr style=\"text-align: right;\">\n",
       "      <th></th>\n",
       "      <th>Average_Read_Score</th>\n",
       "      <th>avgMathScore</th>\n",
       "      <th>passMthPct</th>\n",
       "      <th>passRdPct</th>\n",
       "      <th>overallPct</th>\n",
       "    </tr>\n",
       "    <tr>\n",
       "      <th>spending_bins</th>\n",
       "      <th></th>\n",
       "      <th></th>\n",
       "      <th></th>\n",
       "      <th></th>\n",
       "      <th></th>\n",
       "    </tr>\n",
       "  </thead>\n",
       "  <tbody>\n",
       "    <tr>\n",
       "      <th>&lt;$585</th>\n",
       "      <td>83.935000</td>\n",
       "      <td>83.452500</td>\n",
       "      <td>93.460000</td>\n",
       "      <td>96.610000</td>\n",
       "      <td>95.035000</td>\n",
       "    </tr>\n",
       "    <tr>\n",
       "      <th>$585-615</th>\n",
       "      <td>83.885000</td>\n",
       "      <td>83.600000</td>\n",
       "      <td>94.230000</td>\n",
       "      <td>95.900000</td>\n",
       "      <td>95.065000</td>\n",
       "    </tr>\n",
       "    <tr>\n",
       "      <th>$615-645</th>\n",
       "      <td>81.891667</td>\n",
       "      <td>79.078333</td>\n",
       "      <td>75.668333</td>\n",
       "      <td>86.106667</td>\n",
       "      <td>80.888333</td>\n",
       "    </tr>\n",
       "    <tr>\n",
       "      <th>$645-675</th>\n",
       "      <td>81.026667</td>\n",
       "      <td>76.996667</td>\n",
       "      <td>66.163333</td>\n",
       "      <td>81.133333</td>\n",
       "      <td>73.650000</td>\n",
       "    </tr>\n",
       "  </tbody>\n",
       "</table>\n",
       "</div>"
      ],
      "text/plain": [
       "               Average_Read_Score  avgMathScore  passMthPct  passRdPct  \\\n",
       "spending_bins                                                            \n",
       "<$585                   83.935000     83.452500   93.460000  96.610000   \n",
       "$585-615                83.885000     83.600000   94.230000  95.900000   \n",
       "$615-645                81.891667     79.078333   75.668333  86.106667   \n",
       "$645-675                81.026667     76.996667   66.163333  81.133333   \n",
       "\n",
       "               overallPct  \n",
       "spending_bins              \n",
       "<$585           95.035000  \n",
       "$585-615        95.065000  \n",
       "$615-645        80.888333  \n",
       "$645-675        73.650000  "
      ]
     },
     "execution_count": 69,
     "metadata": {},
     "output_type": "execute_result"
    }
   ],
   "source": [
    "mstrSrs['spending_bins']=pd.cut(mstrSrs['perStudentBudget'],spending_bins,labels=group_names)\n",
    "\n",
    "bBinMstrSrs=mstrSrs.groupby(['spending_bins']).mean()\n",
    "bBinMstrSrs.drop(['schoolStudents','bySchoolBudget','perStudentBudget'],axis=1, inplace=True)\n",
    "bBinMstrSrs"
   ]
  },
  {
   "cell_type": "markdown",
   "metadata": {},
   "source": [
    "## Scores by School Size"
   ]
  },
  {
   "cell_type": "markdown",
   "metadata": {},
   "source": [
    "* Perform the same operations as above, based on school size."
   ]
  },
  {
   "cell_type": "code",
   "execution_count": 55,
   "metadata": {},
   "outputs": [],
   "source": [
    "# Sample bins. Feel free to create your own bins.\n",
    "size_bins = [0, 1000, 2000, 5000]\n",
    "group_names = [\"Small (<1000)\", \"Medium (1000-2000)\", \"Large (2000-5000)\"]"
   ]
  },
  {
   "cell_type": "code",
   "execution_count": 57,
   "metadata": {
    "scrolled": true
   },
   "outputs": [
    {
     "data": {
      "text/html": [
       "<div>\n",
       "<style scoped>\n",
       "    .dataframe tbody tr th:only-of-type {\n",
       "        vertical-align: middle;\n",
       "    }\n",
       "\n",
       "    .dataframe tbody tr th {\n",
       "        vertical-align: top;\n",
       "    }\n",
       "\n",
       "    .dataframe thead th {\n",
       "        text-align: right;\n",
       "    }\n",
       "</style>\n",
       "<table border=\"1\" class=\"dataframe\">\n",
       "  <thead>\n",
       "    <tr style=\"text-align: right;\">\n",
       "      <th></th>\n",
       "      <th>schoolName</th>\n",
       "      <th>schoolType</th>\n",
       "      <th>schoolStudents</th>\n",
       "      <th>bySchoolBudget</th>\n",
       "      <th>perStudentBudget</th>\n",
       "      <th>Average_Read_Score</th>\n",
       "      <th>avgMathScore</th>\n",
       "      <th>passMthPct</th>\n",
       "      <th>passRdPct</th>\n",
       "      <th>overallPct</th>\n",
       "      <th>spending_bins</th>\n",
       "      <th>size_bins</th>\n",
       "    </tr>\n",
       "  </thead>\n",
       "  <tbody>\n",
       "    <tr>\n",
       "      <th>0</th>\n",
       "      <td>Bailey High School</td>\n",
       "      <td>District</td>\n",
       "      <td>4976</td>\n",
       "      <td>3124928</td>\n",
       "      <td>628.0</td>\n",
       "      <td>81.03</td>\n",
       "      <td>77.05</td>\n",
       "      <td>66.68</td>\n",
       "      <td>81.93</td>\n",
       "      <td>74.31</td>\n",
       "      <td>$615-645</td>\n",
       "      <td>Large (2000-5000)</td>\n",
       "    </tr>\n",
       "    <tr>\n",
       "      <th>1</th>\n",
       "      <td>Cabrera High School</td>\n",
       "      <td>Charter</td>\n",
       "      <td>1858</td>\n",
       "      <td>1081356</td>\n",
       "      <td>582.0</td>\n",
       "      <td>83.98</td>\n",
       "      <td>83.06</td>\n",
       "      <td>94.13</td>\n",
       "      <td>97.04</td>\n",
       "      <td>95.58</td>\n",
       "      <td>&lt;$585</td>\n",
       "      <td>Medium (1000-2000)</td>\n",
       "    </tr>\n",
       "    <tr>\n",
       "      <th>2</th>\n",
       "      <td>Figueroa High School</td>\n",
       "      <td>District</td>\n",
       "      <td>2949</td>\n",
       "      <td>1884411</td>\n",
       "      <td>639.0</td>\n",
       "      <td>81.16</td>\n",
       "      <td>76.71</td>\n",
       "      <td>65.99</td>\n",
       "      <td>80.74</td>\n",
       "      <td>73.36</td>\n",
       "      <td>$615-645</td>\n",
       "      <td>Large (2000-5000)</td>\n",
       "    </tr>\n",
       "    <tr>\n",
       "      <th>3</th>\n",
       "      <td>Ford High School</td>\n",
       "      <td>District</td>\n",
       "      <td>2739</td>\n",
       "      <td>1763916</td>\n",
       "      <td>644.0</td>\n",
       "      <td>80.75</td>\n",
       "      <td>77.10</td>\n",
       "      <td>68.31</td>\n",
       "      <td>79.30</td>\n",
       "      <td>73.81</td>\n",
       "      <td>$615-645</td>\n",
       "      <td>Large (2000-5000)</td>\n",
       "    </tr>\n",
       "    <tr>\n",
       "      <th>4</th>\n",
       "      <td>Griffin High School</td>\n",
       "      <td>Charter</td>\n",
       "      <td>1468</td>\n",
       "      <td>917500</td>\n",
       "      <td>625.0</td>\n",
       "      <td>83.82</td>\n",
       "      <td>83.35</td>\n",
       "      <td>93.39</td>\n",
       "      <td>97.14</td>\n",
       "      <td>95.26</td>\n",
       "      <td>$615-645</td>\n",
       "      <td>Medium (1000-2000)</td>\n",
       "    </tr>\n",
       "    <tr>\n",
       "      <th>5</th>\n",
       "      <td>Hernandez High School</td>\n",
       "      <td>District</td>\n",
       "      <td>4635</td>\n",
       "      <td>3022020</td>\n",
       "      <td>652.0</td>\n",
       "      <td>80.93</td>\n",
       "      <td>77.29</td>\n",
       "      <td>66.75</td>\n",
       "      <td>80.86</td>\n",
       "      <td>73.81</td>\n",
       "      <td>$645-675</td>\n",
       "      <td>Large (2000-5000)</td>\n",
       "    </tr>\n",
       "    <tr>\n",
       "      <th>6</th>\n",
       "      <td>Holden High School</td>\n",
       "      <td>Charter</td>\n",
       "      <td>427</td>\n",
       "      <td>248087</td>\n",
       "      <td>581.0</td>\n",
       "      <td>83.81</td>\n",
       "      <td>83.80</td>\n",
       "      <td>92.51</td>\n",
       "      <td>96.25</td>\n",
       "      <td>94.38</td>\n",
       "      <td>&lt;$585</td>\n",
       "      <td>Small (&lt;1000)</td>\n",
       "    </tr>\n",
       "    <tr>\n",
       "      <th>7</th>\n",
       "      <td>Huang High School</td>\n",
       "      <td>District</td>\n",
       "      <td>2917</td>\n",
       "      <td>1910635</td>\n",
       "      <td>655.0</td>\n",
       "      <td>81.18</td>\n",
       "      <td>76.63</td>\n",
       "      <td>65.68</td>\n",
       "      <td>81.32</td>\n",
       "      <td>73.50</td>\n",
       "      <td>$645-675</td>\n",
       "      <td>Large (2000-5000)</td>\n",
       "    </tr>\n",
       "    <tr>\n",
       "      <th>8</th>\n",
       "      <td>Johnson High School</td>\n",
       "      <td>District</td>\n",
       "      <td>4761</td>\n",
       "      <td>3094650</td>\n",
       "      <td>650.0</td>\n",
       "      <td>80.97</td>\n",
       "      <td>77.07</td>\n",
       "      <td>66.06</td>\n",
       "      <td>81.22</td>\n",
       "      <td>73.64</td>\n",
       "      <td>$645-675</td>\n",
       "      <td>Large (2000-5000)</td>\n",
       "    </tr>\n",
       "    <tr>\n",
       "      <th>9</th>\n",
       "      <td>Pena High School</td>\n",
       "      <td>Charter</td>\n",
       "      <td>962</td>\n",
       "      <td>585858</td>\n",
       "      <td>609.0</td>\n",
       "      <td>84.04</td>\n",
       "      <td>83.84</td>\n",
       "      <td>94.59</td>\n",
       "      <td>95.95</td>\n",
       "      <td>95.27</td>\n",
       "      <td>$585-615</td>\n",
       "      <td>Small (&lt;1000)</td>\n",
       "    </tr>\n",
       "    <tr>\n",
       "      <th>10</th>\n",
       "      <td>Rodriguez High School</td>\n",
       "      <td>District</td>\n",
       "      <td>3999</td>\n",
       "      <td>2547363</td>\n",
       "      <td>637.0</td>\n",
       "      <td>80.74</td>\n",
       "      <td>76.84</td>\n",
       "      <td>66.37</td>\n",
       "      <td>80.22</td>\n",
       "      <td>73.30</td>\n",
       "      <td>$615-645</td>\n",
       "      <td>Large (2000-5000)</td>\n",
       "    </tr>\n",
       "    <tr>\n",
       "      <th>11</th>\n",
       "      <td>Shelton High School</td>\n",
       "      <td>Charter</td>\n",
       "      <td>1761</td>\n",
       "      <td>1056600</td>\n",
       "      <td>600.0</td>\n",
       "      <td>83.73</td>\n",
       "      <td>83.36</td>\n",
       "      <td>93.87</td>\n",
       "      <td>95.85</td>\n",
       "      <td>94.86</td>\n",
       "      <td>$585-615</td>\n",
       "      <td>Medium (1000-2000)</td>\n",
       "    </tr>\n",
       "    <tr>\n",
       "      <th>12</th>\n",
       "      <td>Thomas High School</td>\n",
       "      <td>Charter</td>\n",
       "      <td>1635</td>\n",
       "      <td>1043130</td>\n",
       "      <td>638.0</td>\n",
       "      <td>83.85</td>\n",
       "      <td>83.42</td>\n",
       "      <td>93.27</td>\n",
       "      <td>97.31</td>\n",
       "      <td>95.29</td>\n",
       "      <td>$615-645</td>\n",
       "      <td>Medium (1000-2000)</td>\n",
       "    </tr>\n",
       "    <tr>\n",
       "      <th>13</th>\n",
       "      <td>Wilson High School</td>\n",
       "      <td>Charter</td>\n",
       "      <td>2283</td>\n",
       "      <td>1319574</td>\n",
       "      <td>578.0</td>\n",
       "      <td>83.99</td>\n",
       "      <td>83.27</td>\n",
       "      <td>93.87</td>\n",
       "      <td>96.54</td>\n",
       "      <td>95.21</td>\n",
       "      <td>&lt;$585</td>\n",
       "      <td>Large (2000-5000)</td>\n",
       "    </tr>\n",
       "    <tr>\n",
       "      <th>14</th>\n",
       "      <td>Wright High School</td>\n",
       "      <td>Charter</td>\n",
       "      <td>1800</td>\n",
       "      <td>1049400</td>\n",
       "      <td>583.0</td>\n",
       "      <td>83.96</td>\n",
       "      <td>83.68</td>\n",
       "      <td>93.33</td>\n",
       "      <td>96.61</td>\n",
       "      <td>94.97</td>\n",
       "      <td>&lt;$585</td>\n",
       "      <td>Medium (1000-2000)</td>\n",
       "    </tr>\n",
       "  </tbody>\n",
       "</table>\n",
       "</div>"
      ],
      "text/plain": [
       "               schoolName schoolType  schoolStudents  bySchoolBudget  \\\n",
       "0      Bailey High School   District            4976         3124928   \n",
       "1     Cabrera High School    Charter            1858         1081356   \n",
       "2    Figueroa High School   District            2949         1884411   \n",
       "3        Ford High School   District            2739         1763916   \n",
       "4     Griffin High School    Charter            1468          917500   \n",
       "5   Hernandez High School   District            4635         3022020   \n",
       "6      Holden High School    Charter             427          248087   \n",
       "7       Huang High School   District            2917         1910635   \n",
       "8     Johnson High School   District            4761         3094650   \n",
       "9        Pena High School    Charter             962          585858   \n",
       "10  Rodriguez High School   District            3999         2547363   \n",
       "11    Shelton High School    Charter            1761         1056600   \n",
       "12     Thomas High School    Charter            1635         1043130   \n",
       "13     Wilson High School    Charter            2283         1319574   \n",
       "14     Wright High School    Charter            1800         1049400   \n",
       "\n",
       "    perStudentBudget  Average_Read_Score  avgMathScore  passMthPct  passRdPct  \\\n",
       "0              628.0               81.03         77.05       66.68      81.93   \n",
       "1              582.0               83.98         83.06       94.13      97.04   \n",
       "2              639.0               81.16         76.71       65.99      80.74   \n",
       "3              644.0               80.75         77.10       68.31      79.30   \n",
       "4              625.0               83.82         83.35       93.39      97.14   \n",
       "5              652.0               80.93         77.29       66.75      80.86   \n",
       "6              581.0               83.81         83.80       92.51      96.25   \n",
       "7              655.0               81.18         76.63       65.68      81.32   \n",
       "8              650.0               80.97         77.07       66.06      81.22   \n",
       "9              609.0               84.04         83.84       94.59      95.95   \n",
       "10             637.0               80.74         76.84       66.37      80.22   \n",
       "11             600.0               83.73         83.36       93.87      95.85   \n",
       "12             638.0               83.85         83.42       93.27      97.31   \n",
       "13             578.0               83.99         83.27       93.87      96.54   \n",
       "14             583.0               83.96         83.68       93.33      96.61   \n",
       "\n",
       "    overallPct spending_bins           size_bins  \n",
       "0        74.31      $615-645   Large (2000-5000)  \n",
       "1        95.58         <$585  Medium (1000-2000)  \n",
       "2        73.36      $615-645   Large (2000-5000)  \n",
       "3        73.81      $615-645   Large (2000-5000)  \n",
       "4        95.26      $615-645  Medium (1000-2000)  \n",
       "5        73.81      $645-675   Large (2000-5000)  \n",
       "6        94.38         <$585       Small (<1000)  \n",
       "7        73.50      $645-675   Large (2000-5000)  \n",
       "8        73.64      $645-675   Large (2000-5000)  \n",
       "9        95.27      $585-615       Small (<1000)  \n",
       "10       73.30      $615-645   Large (2000-5000)  \n",
       "11       94.86      $585-615  Medium (1000-2000)  \n",
       "12       95.29      $615-645  Medium (1000-2000)  \n",
       "13       95.21         <$585   Large (2000-5000)  \n",
       "14       94.97         <$585  Medium (1000-2000)  "
      ]
     },
     "execution_count": 57,
     "metadata": {},
     "output_type": "execute_result"
    }
   ],
   "source": [
    "mstrSrs['size_bins']=pd.cut(mstrSrs['schoolStudents'],size_bins,labels=group_names)\n",
    "mstrSrs"
   ]
  },
  {
   "cell_type": "markdown",
   "metadata": {},
   "source": [
    "## Scores by School Type"
   ]
  },
  {
   "cell_type": "markdown",
   "metadata": {},
   "source": [
    "* Perform the same operations as above, based on school type."
   ]
  },
  {
   "cell_type": "code",
   "execution_count": 70,
   "metadata": {},
   "outputs": [
    {
     "data": {
      "text/html": [
       "<div>\n",
       "<style scoped>\n",
       "    .dataframe tbody tr th:only-of-type {\n",
       "        vertical-align: middle;\n",
       "    }\n",
       "\n",
       "    .dataframe tbody tr th {\n",
       "        vertical-align: top;\n",
       "    }\n",
       "\n",
       "    .dataframe thead th {\n",
       "        text-align: right;\n",
       "    }\n",
       "</style>\n",
       "<table border=\"1\" class=\"dataframe\">\n",
       "  <thead>\n",
       "    <tr style=\"text-align: right;\">\n",
       "      <th></th>\n",
       "      <th>schoolStudents</th>\n",
       "      <th>bySchoolBudget</th>\n",
       "      <th>perStudentBudget</th>\n",
       "      <th>Average_Read_Score</th>\n",
       "      <th>avgMathScore</th>\n",
       "      <th>passMthPct</th>\n",
       "      <th>passRdPct</th>\n",
       "      <th>overallPct</th>\n",
       "    </tr>\n",
       "    <tr>\n",
       "      <th>schoolType</th>\n",
       "      <th></th>\n",
       "      <th></th>\n",
       "      <th></th>\n",
       "      <th></th>\n",
       "      <th></th>\n",
       "      <th></th>\n",
       "      <th></th>\n",
       "      <th></th>\n",
       "    </tr>\n",
       "  </thead>\n",
       "  <tbody>\n",
       "    <tr>\n",
       "      <th>Charter</th>\n",
       "      <td>1524.250000</td>\n",
       "      <td>9.126881e+05</td>\n",
       "      <td>599.500000</td>\n",
       "      <td>83.897500</td>\n",
       "      <td>83.472500</td>\n",
       "      <td>93.620000</td>\n",
       "      <td>96.586250</td>\n",
       "      <td>95.102500</td>\n",
       "    </tr>\n",
       "    <tr>\n",
       "      <th>District</th>\n",
       "      <td>3853.714286</td>\n",
       "      <td>2.478275e+06</td>\n",
       "      <td>643.571429</td>\n",
       "      <td>80.965714</td>\n",
       "      <td>76.955714</td>\n",
       "      <td>66.548571</td>\n",
       "      <td>80.798571</td>\n",
       "      <td>73.675714</td>\n",
       "    </tr>\n",
       "  </tbody>\n",
       "</table>\n",
       "</div>"
      ],
      "text/plain": [
       "            schoolStudents  bySchoolBudget  perStudentBudget  \\\n",
       "schoolType                                                     \n",
       "Charter        1524.250000    9.126881e+05        599.500000   \n",
       "District       3853.714286    2.478275e+06        643.571429   \n",
       "\n",
       "            Average_Read_Score  avgMathScore  passMthPct  passRdPct  \\\n",
       "schoolType                                                            \n",
       "Charter              83.897500     83.472500   93.620000  96.586250   \n",
       "District             80.965714     76.955714   66.548571  80.798571   \n",
       "\n",
       "            overallPct  \n",
       "schoolType              \n",
       "Charter      95.102500  \n",
       "District     73.675714  "
      ]
     },
     "execution_count": 70,
     "metadata": {},
     "output_type": "execute_result"
    }
   ],
   "source": [
    "byDistMstrSrs=mstrSrs.groupby(['schoolType']).mean()\n",
    "byDistMstrSrs"
   ]
  },
  {
   "cell_type": "code",
   "execution_count": 58,
   "metadata": {},
   "outputs": [],
   "source": [
    "group_names = ['Charter','District']"
   ]
  },
  {
   "cell_type": "code",
   "execution_count": 60,
   "metadata": {},
   "outputs": [
    {
     "ename": "TypeError",
     "evalue": "'<' not supported between instances of 'int' and 'str'",
     "output_type": "error",
     "traceback": [
      "\u001b[1;31m---------------------------------------------------------------------------\u001b[0m",
      "\u001b[1;31mTypeError\u001b[0m                                 Traceback (most recent call last)",
      "\u001b[1;32m<ipython-input-60-3cfa0cc1013e>\u001b[0m in \u001b[0;36m<module>\u001b[1;34m()\u001b[0m\n\u001b[1;32m----> 1\u001b[1;33m \u001b[0mmstrSrs\u001b[0m\u001b[1;33m=\u001b[0m\u001b[0mpd\u001b[0m\u001b[1;33m.\u001b[0m\u001b[0mcut\u001b[0m\u001b[1;33m(\u001b[0m\u001b[0mmstrSrs\u001b[0m\u001b[1;33m[\u001b[0m\u001b[1;34m'schoolType'\u001b[0m\u001b[1;33m]\u001b[0m\u001b[1;33m,\u001b[0m\u001b[0mtype_bins\u001b[0m\u001b[1;33m,\u001b[0m\u001b[0mlabels\u001b[0m\u001b[1;33m=\u001b[0m\u001b[0mgroup_names\u001b[0m\u001b[1;33m)\u001b[0m\u001b[1;33m\u001b[0m\u001b[0m\n\u001b[0m",
      "\u001b[1;32m~\\Anaconda\\lib\\site-packages\\pandas\\core\\reshape\\tile.py\u001b[0m in \u001b[0;36mcut\u001b[1;34m(x, bins, right, labels, retbins, precision, include_lowest, duplicates)\u001b[0m\n\u001b[0;32m    232\u001b[0m                               \u001b[0minclude_lowest\u001b[0m\u001b[1;33m=\u001b[0m\u001b[0minclude_lowest\u001b[0m\u001b[1;33m,\u001b[0m\u001b[1;33m\u001b[0m\u001b[0m\n\u001b[0;32m    233\u001b[0m                               \u001b[0mdtype\u001b[0m\u001b[1;33m=\u001b[0m\u001b[0mdtype\u001b[0m\u001b[1;33m,\u001b[0m\u001b[1;33m\u001b[0m\u001b[0m\n\u001b[1;32m--> 234\u001b[1;33m                               duplicates=duplicates)\n\u001b[0m\u001b[0;32m    235\u001b[0m \u001b[1;33m\u001b[0m\u001b[0m\n\u001b[0;32m    236\u001b[0m     return _postprocess_for_cut(fac, bins, retbins, x_is_series,\n",
      "\u001b[1;32m~\\Anaconda\\lib\\site-packages\\pandas\\core\\reshape\\tile.py\u001b[0m in \u001b[0;36m_bins_to_cuts\u001b[1;34m(x, bins, right, labels, precision, include_lowest, dtype, duplicates)\u001b[0m\n\u001b[0;32m    335\u001b[0m \u001b[1;33m\u001b[0m\u001b[0m\n\u001b[0;32m    336\u001b[0m     \u001b[0mside\u001b[0m \u001b[1;33m=\u001b[0m \u001b[1;34m'left'\u001b[0m \u001b[1;32mif\u001b[0m \u001b[0mright\u001b[0m \u001b[1;32melse\u001b[0m \u001b[1;34m'right'\u001b[0m\u001b[1;33m\u001b[0m\u001b[0m\n\u001b[1;32m--> 337\u001b[1;33m     \u001b[0mids\u001b[0m \u001b[1;33m=\u001b[0m \u001b[0m_ensure_int64\u001b[0m\u001b[1;33m(\u001b[0m\u001b[0mbins\u001b[0m\u001b[1;33m.\u001b[0m\u001b[0msearchsorted\u001b[0m\u001b[1;33m(\u001b[0m\u001b[0mx\u001b[0m\u001b[1;33m,\u001b[0m \u001b[0mside\u001b[0m\u001b[1;33m=\u001b[0m\u001b[0mside\u001b[0m\u001b[1;33m)\u001b[0m\u001b[1;33m)\u001b[0m\u001b[1;33m\u001b[0m\u001b[0m\n\u001b[0m\u001b[0;32m    338\u001b[0m \u001b[1;33m\u001b[0m\u001b[0m\n\u001b[0;32m    339\u001b[0m     \u001b[1;32mif\u001b[0m \u001b[0minclude_lowest\u001b[0m\u001b[1;33m:\u001b[0m\u001b[1;33m\u001b[0m\u001b[0m\n",
      "\u001b[1;31mTypeError\u001b[0m: '<' not supported between instances of 'int' and 'str'"
     ]
    }
   ],
   "source": [
    "mstrSrs=pd.cut(mstrSrs['schoolType'],type_bins,labels=group_names)"
   ]
  },
  {
   "cell_type": "code",
   "execution_count": null,
   "metadata": {},
   "outputs": [],
   "source": []
  }
 ],
 "metadata": {
  "anaconda-cloud": {},
  "kernel_info": {
   "name": "python3"
  },
  "kernelspec": {
   "display_name": "Python 3",
   "language": "python",
   "name": "python3"
  },
  "language_info": {
   "codemirror_mode": {
    "name": "ipython",
    "version": 3
   },
   "file_extension": ".py",
   "mimetype": "text/x-python",
   "name": "python",
   "nbconvert_exporter": "python",
   "pygments_lexer": "ipython3",
   "version": "3.6.5"
  },
  "nteract": {
   "version": "0.8.4"
  }
 },
 "nbformat": 4,
 "nbformat_minor": 1
}
